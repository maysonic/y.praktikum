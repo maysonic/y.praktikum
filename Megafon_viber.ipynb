{
 "cells": [
  {
   "cell_type": "markdown",
   "metadata": {},
   "source": [
    "#  Определение паттернов номеров, наиболее вероятно относящихся к Flash Call, используемых при регистрации в приложении Viber"
   ]
  },
  {
   "cell_type": "markdown",
   "metadata": {},
   "source": [
    "<a id=\"0.\"></a>\n",
    "# Содержание: \n",
    "1. [Подготовка данных](#1.) \n",
    "<p></p>\n",
    "2. [Анализ данных](#2.)  \n",
    " 2.1. [Вызовы с одинаковой кодовой частью](#2.1.)  \n",
    " 2.2. [Вызовы с одинаковым набором префикс-суффикс](#2.2.)  \n",
    " 2.3. [Вызовы с одним префиксом и c суффиксами, образующими пул последовательных номеров](#2.3.)  \n",
    " 2.4. [Наиболее вероятные кандидаты на шаблоны номеров, принадлежащие flash call сервисам](#2.4.)  \n",
    "<p></p>\n",
    "3. [Вывод](#3.)"
   ]
  },
  {
   "cell_type": "markdown",
   "metadata": {},
   "source": [
    "<a id=\"1.\"></a> \n",
    "## 1. Подготовка данных"
   ]
  },
  {
   "cell_type": "code",
   "execution_count": 1,
   "metadata": {},
   "outputs": [],
   "source": [
    "import pandas as pd\n",
    "import matplotlib.pyplot as plt\n",
    "import seaborn as sns\n",
    "import math\n"
   ]
  },
  {
   "cell_type": "markdown",
   "metadata": {},
   "source": [
    "Поменяю названия столбцов на более удобные:"
   ]
  },
  {
   "cell_type": "code",
   "execution_count": 2,
   "metadata": {},
   "outputs": [],
   "source": [
    "data = pd.read_excel('viber.xlsx', sheet_name='data')\n",
    "data.columns = ['anumber', 'cnt']\n"
   ]
  },
  {
   "cell_type": "markdown",
   "metadata": {},
   "source": [
    "После первой попытки неудачной верификации, второй и последующие вызовы приходят уже с других номеров.  \n",
    "Поэтому уберу строки с полем **cnt > 1**:"
   ]
  },
  {
   "cell_type": "code",
   "execution_count": 3,
   "metadata": {},
   "outputs": [],
   "source": [
    "data = data.query('cnt == 1').reset_index(drop=True)\n"
   ]
  },
  {
   "cell_type": "markdown",
   "metadata": {},
   "source": [
    "В дальнейшем буду называть ее ***оригинальной таблицей.***  "
   ]
  },
  {
   "cell_type": "markdown",
   "metadata": {},
   "source": [
    "Добавлю три новых столбца, содержащих цифры из поля с полным номером А: **prefix**(цифры 1-4), **code**(цифры 5-10), **suffix**(цифры 11 и 12):"
   ]
  },
  {
   "cell_type": "code",
   "execution_count": 4,
   "metadata": {},
   "outputs": [
    {
     "data": {
      "text/html": [
       "<div>\n",
       "<style scoped>\n",
       "    .dataframe tbody tr th:only-of-type {\n",
       "        vertical-align: middle;\n",
       "    }\n",
       "\n",
       "    .dataframe tbody tr th {\n",
       "        vertical-align: top;\n",
       "    }\n",
       "\n",
       "    .dataframe thead th {\n",
       "        text-align: right;\n",
       "    }\n",
       "</style>\n",
       "<table border=\"1\" class=\"dataframe\">\n",
       "  <thead>\n",
       "    <tr style=\"text-align: right;\">\n",
       "      <th></th>\n",
       "      <th>anumber</th>\n",
       "      <th>cnt</th>\n",
       "      <th>prefix</th>\n",
       "      <th>code</th>\n",
       "      <th>suffix</th>\n",
       "    </tr>\n",
       "  </thead>\n",
       "  <tbody>\n",
       "    <tr>\n",
       "      <th>0</th>\n",
       "      <td>332412996289</td>\n",
       "      <td>1</td>\n",
       "      <td>3324</td>\n",
       "      <td>129962</td>\n",
       "      <td>89</td>\n",
       "    </tr>\n",
       "    <tr>\n",
       "      <th>1</th>\n",
       "      <td>332414582798</td>\n",
       "      <td>1</td>\n",
       "      <td>3324</td>\n",
       "      <td>145827</td>\n",
       "      <td>98</td>\n",
       "    </tr>\n",
       "    <tr>\n",
       "      <th>2</th>\n",
       "      <td>332414919598</td>\n",
       "      <td>1</td>\n",
       "      <td>3324</td>\n",
       "      <td>149195</td>\n",
       "      <td>98</td>\n",
       "    </tr>\n",
       "    <tr>\n",
       "      <th>3</th>\n",
       "      <td>332419111298</td>\n",
       "      <td>1</td>\n",
       "      <td>3324</td>\n",
       "      <td>191112</td>\n",
       "      <td>98</td>\n",
       "    </tr>\n",
       "    <tr>\n",
       "      <th>4</th>\n",
       "      <td>332420553298</td>\n",
       "      <td>1</td>\n",
       "      <td>3324</td>\n",
       "      <td>205532</td>\n",
       "      <td>98</td>\n",
       "    </tr>\n",
       "  </tbody>\n",
       "</table>\n",
       "</div>"
      ],
      "text/plain": [
       "        anumber  cnt  prefix    code  suffix\n",
       "0  332412996289    1    3324  129962      89\n",
       "1  332414582798    1    3324  145827      98\n",
       "2  332414919598    1    3324  149195      98\n",
       "3  332419111298    1    3324  191112      98\n",
       "4  332420553298    1    3324  205532      98"
      ]
     },
     "execution_count": 4,
     "metadata": {},
     "output_type": "execute_result"
    }
   ],
   "source": [
    "data['prefix'] = data['anumber'].apply(lambda x: int(str(x)[:4]))\n",
    "data['code'] = data['anumber'].apply(lambda x: int(str(x)[4:10]))\n",
    "data['suffix'] = data['anumber'].apply(lambda x: int(str(x)[10:]))\n",
    "data.head()\n"
   ]
  },
  {
   "cell_type": "markdown",
   "metadata": {},
   "source": [
    "[К содержанию](#0.) \n",
    "<a id=\"2.\"></a> \n",
    "## 2. Анализ данных"
   ]
  },
  {
   "cell_type": "markdown",
   "metadata": {},
   "source": [
    "<a id=\"2.1.\"></a> \n",
    "### 2.1. Вызовы с одинаковой кодовой частью"
   ]
  },
  {
   "cell_type": "markdown",
   "metadata": {},
   "source": [
    "**Предположение**: Новый пользователь сервиса с верификацией по flash call с первого раза ее не проходит, поэтому тот же код отправляется еще максимум 2 раза (итого максимум 3 раза перед 24-часовой блокировки пользователя)  \n",
    "**Результат анализа**: Список сочетаний префикс-суффикс, которые замечены в звонках с повторяющимися кодами"
   ]
  },
  {
   "cell_type": "markdown",
   "metadata": {},
   "source": [
    "Сгруппирую таблицу по кодам и посчитаю количество их появления:"
   ]
  },
  {
   "cell_type": "code",
   "execution_count": 5,
   "metadata": {},
   "outputs": [
    {
     "data": {
      "text/plain": [
       "code\n",
       "753815    3\n",
       "407079    2\n",
       "185274    2\n",
       "725999    2\n",
       "894583    2\n",
       "598020    2\n",
       "897976    2\n",
       "763744    2\n",
       "140728    2\n",
       "763459    2\n",
       "Name: anumber, dtype: int64"
      ]
     },
     "execution_count": 5,
     "metadata": {},
     "output_type": "execute_result"
    }
   ],
   "source": [
    "codes_cnt = data.groupby('code')['anumber'].count().sort_values(ascending=False)\n",
    "codes_cnt.head(10)\n"
   ]
  },
  {
   "cell_type": "markdown",
   "metadata": {},
   "source": [
    "Имеются много кодов, которые отправлялись 2-3 раза. Это соответствует политике Viber - для каждого пользователя доступны 3 попытки верификации подряд. Затем бан на 24 часа.   \n",
    "Список вызовов с кодовой частью, повторяющейся 2 или 3 раза в оригинальной таблице: "
   ]
  },
  {
   "cell_type": "code",
   "execution_count": 6,
   "metadata": {},
   "outputs": [
    {
     "data": {
      "text/html": [
       "<div>\n",
       "<style scoped>\n",
       "    .dataframe tbody tr th:only-of-type {\n",
       "        vertical-align: middle;\n",
       "    }\n",
       "\n",
       "    .dataframe tbody tr th {\n",
       "        vertical-align: top;\n",
       "    }\n",
       "\n",
       "    .dataframe thead th {\n",
       "        text-align: right;\n",
       "    }\n",
       "</style>\n",
       "<table border=\"1\" class=\"dataframe\">\n",
       "  <thead>\n",
       "    <tr style=\"text-align: right;\">\n",
       "      <th></th>\n",
       "      <th>anumber</th>\n",
       "      <th>cnt</th>\n",
       "      <th>prefix</th>\n",
       "      <th>code</th>\n",
       "      <th>suffix</th>\n",
       "    </tr>\n",
       "  </thead>\n",
       "  <tbody>\n",
       "    <tr>\n",
       "      <th>0</th>\n",
       "      <td>332515394388</td>\n",
       "      <td>1</td>\n",
       "      <td>3325</td>\n",
       "      <td>153943</td>\n",
       "      <td>88</td>\n",
       "    </tr>\n",
       "    <tr>\n",
       "      <th>1</th>\n",
       "      <td>332592549379</td>\n",
       "      <td>1</td>\n",
       "      <td>3325</td>\n",
       "      <td>925493</td>\n",
       "      <td>79</td>\n",
       "    </tr>\n",
       "    <tr>\n",
       "      <th>2</th>\n",
       "      <td>332663914887</td>\n",
       "      <td>1</td>\n",
       "      <td>3326</td>\n",
       "      <td>639148</td>\n",
       "      <td>87</td>\n",
       "    </tr>\n",
       "    <tr>\n",
       "      <th>3</th>\n",
       "      <td>332775381559</td>\n",
       "      <td>1</td>\n",
       "      <td>3327</td>\n",
       "      <td>753815</td>\n",
       "      <td>59</td>\n",
       "    </tr>\n",
       "    <tr>\n",
       "      <th>4</th>\n",
       "      <td>332834733785</td>\n",
       "      <td>1</td>\n",
       "      <td>3328</td>\n",
       "      <td>347337</td>\n",
       "      <td>85</td>\n",
       "    </tr>\n",
       "  </tbody>\n",
       "</table>\n",
       "</div>"
      ],
      "text/plain": [
       "        anumber  cnt  prefix    code  suffix\n",
       "0  332515394388    1    3325  153943      88\n",
       "1  332592549379    1    3325  925493      79\n",
       "2  332663914887    1    3326  639148      87\n",
       "3  332775381559    1    3327  753815      59\n",
       "4  332834733785    1    3328  347337      85"
      ]
     },
     "execution_count": 6,
     "metadata": {},
     "output_type": "execute_result"
    }
   ],
   "source": [
    "#Набор кодов с повторениями\n",
    "mfreq_codes = codes_cnt[(codes_cnt > 1) & (codes_cnt <= 3)]\n",
    "#Записи вызовов с этими кодами:\n",
    "data_same_code = data.query('code in @mfreq_codes.index').reset_index(drop=True)\n",
    "data_same_code.head()\n"
   ]
  },
  {
   "cell_type": "markdown",
   "metadata": {},
   "source": [
    "Оставлю только список уникальных сочетаний префикс-суффикс:"
   ]
  },
  {
   "cell_type": "code",
   "execution_count": 7,
   "metadata": {},
   "outputs": [
    {
     "data": {
      "text/html": [
       "<div>\n",
       "<style scoped>\n",
       "    .dataframe tbody tr th:only-of-type {\n",
       "        vertical-align: middle;\n",
       "    }\n",
       "\n",
       "    .dataframe tbody tr th {\n",
       "        vertical-align: top;\n",
       "    }\n",
       "\n",
       "    .dataframe thead th {\n",
       "        text-align: right;\n",
       "    }\n",
       "</style>\n",
       "<table border=\"1\" class=\"dataframe\">\n",
       "  <thead>\n",
       "    <tr style=\"text-align: right;\">\n",
       "      <th></th>\n",
       "      <th>prefix</th>\n",
       "      <th>suffix</th>\n",
       "    </tr>\n",
       "  </thead>\n",
       "  <tbody>\n",
       "    <tr>\n",
       "      <th>0</th>\n",
       "      <td>3325</td>\n",
       "      <td>79</td>\n",
       "    </tr>\n",
       "    <tr>\n",
       "      <th>1</th>\n",
       "      <td>3325</td>\n",
       "      <td>88</td>\n",
       "    </tr>\n",
       "    <tr>\n",
       "      <th>2</th>\n",
       "      <td>3326</td>\n",
       "      <td>87</td>\n",
       "    </tr>\n",
       "    <tr>\n",
       "      <th>3</th>\n",
       "      <td>3327</td>\n",
       "      <td>59</td>\n",
       "    </tr>\n",
       "    <tr>\n",
       "      <th>4</th>\n",
       "      <td>3328</td>\n",
       "      <td>85</td>\n",
       "    </tr>\n",
       "  </tbody>\n",
       "</table>\n",
       "</div>"
      ],
      "text/plain": [
       "   prefix  suffix\n",
       "0    3325      79\n",
       "1    3325      88\n",
       "2    3326      87\n",
       "3    3327      59\n",
       "4    3328      85"
      ]
     },
     "execution_count": 7,
     "metadata": {},
     "output_type": "execute_result"
    }
   ],
   "source": [
    "pref_suf_same_code = data_same_code.groupby(['prefix', 'suffix']).count().reset_index()[['prefix', 'suffix']]\n",
    "pref_suf_same_code.head()\n"
   ]
  },
  {
   "cell_type": "markdown",
   "metadata": {},
   "source": [
    "**Итог**:  \n",
    "Получилось столько записей:"
   ]
  },
  {
   "cell_type": "code",
   "execution_count": 8,
   "metadata": {},
   "outputs": [
    {
     "data": {
      "text/plain": [
       "80"
      ]
     },
     "execution_count": 8,
     "metadata": {},
     "output_type": "execute_result"
    }
   ],
   "source": [
    "pref_suf_same_code.shape[0]\n"
   ]
  },
  {
   "cell_type": "markdown",
   "metadata": {},
   "source": [
    "[К содержанию](#0.) \n",
    "<a id=\"2.2.\"></a> \n",
    "### 2.2. Вызовы с одинаковым набором префикс-суффикс"
   ]
  },
  {
   "cell_type": "markdown",
   "metadata": {},
   "source": [
    "**Предположение**: Владелец сервиса с верификацией по flash call часто(или всегда) использует один и тот же номер_А, в который вставляет новый код.  \n",
    "**Результат анализа**: Списки сочетаний префикс-суффикс, которые повторяются в выборке более 1-го раза"
   ]
  },
  {
   "cell_type": "markdown",
   "metadata": {},
   "source": [
    "- сгруппирую данные по префиксу и суффиксу, \n",
    "- посчитаю число таких сочетаний,\n",
    "- оставлю только сочетания с частотой > 1,\n",
    "- отсортирую по убыванию числа повторений:"
   ]
  },
  {
   "cell_type": "code",
   "execution_count": 9,
   "metadata": {
    "scrolled": true
   },
   "outputs": [
    {
     "data": {
      "text/html": [
       "<div>\n",
       "<style scoped>\n",
       "    .dataframe tbody tr th:only-of-type {\n",
       "        vertical-align: middle;\n",
       "    }\n",
       "\n",
       "    .dataframe tbody tr th {\n",
       "        vertical-align: top;\n",
       "    }\n",
       "\n",
       "    .dataframe thead th {\n",
       "        text-align: right;\n",
       "    }\n",
       "</style>\n",
       "<table border=\"1\" class=\"dataframe\">\n",
       "  <thead>\n",
       "    <tr style=\"text-align: right;\">\n",
       "      <th></th>\n",
       "      <th>prefix</th>\n",
       "      <th>suffix</th>\n",
       "    </tr>\n",
       "  </thead>\n",
       "  <tbody>\n",
       "    <tr>\n",
       "      <th>0</th>\n",
       "      <td>4978</td>\n",
       "      <td>1</td>\n",
       "    </tr>\n",
       "    <tr>\n",
       "      <th>1</th>\n",
       "      <td>3360</td>\n",
       "      <td>98</td>\n",
       "    </tr>\n",
       "    <tr>\n",
       "      <th>2</th>\n",
       "      <td>3324</td>\n",
       "      <td>89</td>\n",
       "    </tr>\n",
       "    <tr>\n",
       "      <th>3</th>\n",
       "      <td>4440</td>\n",
       "      <td>89</td>\n",
       "    </tr>\n",
       "    <tr>\n",
       "      <th>4</th>\n",
       "      <td>4967</td>\n",
       "      <td>3</td>\n",
       "    </tr>\n",
       "  </tbody>\n",
       "</table>\n",
       "</div>"
      ],
      "text/plain": [
       "   prefix  suffix\n",
       "0    4978       1\n",
       "1    3360      98\n",
       "2    3324      89\n",
       "3    4440      89\n",
       "4    4967       3"
      ]
     },
     "execution_count": 9,
     "metadata": {},
     "output_type": "execute_result"
    }
   ],
   "source": [
    "pref_suf_repeat_combins = (\n",
    "    data.pivot_table(index=['prefix', 'suffix'], values='code', aggfunc='count')\n",
    "    .query('code > 1').sort_values(by='code', ascending=False)\n",
    "    .reset_index()[['prefix', 'suffix']]\n",
    ")\n",
    "pref_suf_repeat_combins.head()\n"
   ]
  },
  {
   "cell_type": "markdown",
   "metadata": {},
   "source": [
    "**Итог**:  \n",
    "Получилось столько записей:"
   ]
  },
  {
   "cell_type": "code",
   "execution_count": 10,
   "metadata": {},
   "outputs": [
    {
     "data": {
      "text/plain": [
       "787"
      ]
     },
     "execution_count": 10,
     "metadata": {},
     "output_type": "execute_result"
    }
   ],
   "source": [
    "pref_suf_repeat_combins.shape[0]\n"
   ]
  },
  {
   "cell_type": "markdown",
   "metadata": {},
   "source": [
    "[К содержанию](#0.) \n",
    "<a id=\"2.3.\"></a> \n",
    "### 2.3. Вызовы с одним префиксом и c суффиксами, образующими пул последовательных номеров"
   ]
  },
  {
   "cell_type": "markdown",
   "metadata": {},
   "source": [
    "**Предположение**: Владелец сервиса с верификацией по flash call звонит с номеров, которые являются частью одного пула.  \n",
    "**Результат анализа**: Списки сочетаний префикс-суффикс, которые можно отнести к одному пулу номеров.  \n",
    "Например: 3324-ХХХХХХ-10, 3324-ХХХХХХ-11, ... 3324-ХХХХХХ-19  \n"
   ]
  },
  {
   "cell_type": "markdown",
   "metadata": {},
   "source": [
    "Для каждого уникального сочетания посчитаю ранг - число соседних номеров, с которыми есть совпадения по префиксу, а суффиксы образуют непрерываемый пул. Буду проверять 2 соседних номера вверх и вниз по списку от рассматриваемого номера."
   ]
  },
  {
   "cell_type": "markdown",
   "metadata": {},
   "source": [
    "Оставлю уникальные сочетания суффикс-префикс и отсортирую их по возрастанию:"
   ]
  },
  {
   "cell_type": "code",
   "execution_count": 11,
   "metadata": {},
   "outputs": [
    {
     "data": {
      "text/html": [
       "<div>\n",
       "<style scoped>\n",
       "    .dataframe tbody tr th:only-of-type {\n",
       "        vertical-align: middle;\n",
       "    }\n",
       "\n",
       "    .dataframe tbody tr th {\n",
       "        vertical-align: top;\n",
       "    }\n",
       "\n",
       "    .dataframe thead th {\n",
       "        text-align: right;\n",
       "    }\n",
       "</style>\n",
       "<table border=\"1\" class=\"dataframe\">\n",
       "  <thead>\n",
       "    <tr style=\"text-align: right;\">\n",
       "      <th></th>\n",
       "      <th>prefix</th>\n",
       "      <th>suffix</th>\n",
       "    </tr>\n",
       "  </thead>\n",
       "  <tbody>\n",
       "    <tr>\n",
       "      <th>0</th>\n",
       "      <td>3324</td>\n",
       "      <td>89</td>\n",
       "    </tr>\n",
       "    <tr>\n",
       "      <th>1</th>\n",
       "      <td>3324</td>\n",
       "      <td>98</td>\n",
       "    </tr>\n",
       "    <tr>\n",
       "      <th>2</th>\n",
       "      <td>3325</td>\n",
       "      <td>79</td>\n",
       "    </tr>\n",
       "    <tr>\n",
       "      <th>3</th>\n",
       "      <td>3325</td>\n",
       "      <td>88</td>\n",
       "    </tr>\n",
       "    <tr>\n",
       "      <th>4</th>\n",
       "      <td>3325</td>\n",
       "      <td>97</td>\n",
       "    </tr>\n",
       "  </tbody>\n",
       "</table>\n",
       "</div>"
      ],
      "text/plain": [
       "   prefix  suffix\n",
       "0    3324      89\n",
       "1    3324      98\n",
       "2    3325      79\n",
       "3    3325      88\n",
       "4    3325      97"
      ]
     },
     "execution_count": 11,
     "metadata": {},
     "output_type": "execute_result"
    }
   ],
   "source": [
    "#data = data.sort_values(by=['prefix', 'suffix']).reset_index(drop=True)\n",
    "uniq_suf_pref = (\n",
    "    data.pivot_table(index=['prefix', 'suffix'])\n",
    "    .reset_index()[['prefix', 'suffix']]\n",
    "    .sort_values(['prefix', 'suffix'])\n",
    ")\n",
    "uniq_suf_pref.head()\n"
   ]
  },
  {
   "cell_type": "markdown",
   "metadata": {},
   "source": [
    "Функция рассчитывает сам ранг:"
   ]
  },
  {
   "cell_type": "code",
   "execution_count": 12,
   "metadata": {},
   "outputs": [],
   "source": [
    "def calc_rank(index, prev_num, fwd_num, data):\n",
    "    prefix = data['prefix']\n",
    "    suffix = data['suffix']\n",
    "    rank = 0\n",
    "    for i in range(1, prev_num + 1):\n",
    "        # Если текущий и предыдущий префиксы равны:\n",
    "        if prefix[index] == prefix[index - i]:\n",
    "            # Если разница между суффиксами равна i\n",
    "            if suffix[index] - suffix[index - i] == i:\n",
    "                rank += 1\n",
    "    for i in range(1, fwd_num + 1):\n",
    "        # Если текущий и последующий префиксы равны:\n",
    "        if prefix[index] == prefix[index + i]:\n",
    "            # Если разница между суффиксами равна i\n",
    "            if suffix[index + i] - suffix[index] == i:\n",
    "                rank += 1\n",
    "    return rank\n",
    "        "
   ]
  },
  {
   "cell_type": "markdown",
   "metadata": {},
   "source": [
    "Эта функция считает, сколько соседей снизу и сверху имеет рассматриваемый номер:"
   ]
  },
  {
   "cell_type": "code",
   "execution_count": 13,
   "metadata": {},
   "outputs": [],
   "source": [
    "def calc_prev_fwd_nums(index, last_index):\n",
    "    prev_num = int(round(4*index / (2*index + 1)))\n",
    "    fwd_num = int(round(4*(last_index - index) / (2*(last_index - index) + 1)))\n",
    "    return prev_num, fwd_num\n"
   ]
  },
  {
   "cell_type": "markdown",
   "metadata": {},
   "source": [
    "Это основная функция, из которой вызываются функции, описанные ранее:"
   ]
  },
  {
   "cell_type": "code",
   "execution_count": 14,
   "metadata": {},
   "outputs": [],
   "source": [
    "def get_rank(row, last_index, data):\n",
    "    # Индекс строки в таблице:\n",
    "    index = row.name\n",
    "    # Сколько позиций назад и вперед от текщего индекса брать для сравнения\n",
    "    prev_num, fwd_num = calc_prev_fwd_nums(index, last_index)\n",
    "    # Считаем количество соседей из того же пула:\n",
    "    rank = calc_rank(index, prev_num, fwd_num, data)\n",
    "    return rank\n",
    "    "
   ]
  },
  {
   "cell_type": "markdown",
   "metadata": {},
   "source": [
    "Создам столбец с рангами:"
   ]
  },
  {
   "cell_type": "code",
   "execution_count": 15,
   "metadata": {
    "scrolled": false
   },
   "outputs": [
    {
     "data": {
      "text/html": [
       "<div>\n",
       "<style scoped>\n",
       "    .dataframe tbody tr th:only-of-type {\n",
       "        vertical-align: middle;\n",
       "    }\n",
       "\n",
       "    .dataframe tbody tr th {\n",
       "        vertical-align: top;\n",
       "    }\n",
       "\n",
       "    .dataframe thead th {\n",
       "        text-align: right;\n",
       "    }\n",
       "</style>\n",
       "<table border=\"1\" class=\"dataframe\">\n",
       "  <thead>\n",
       "    <tr style=\"text-align: right;\">\n",
       "      <th></th>\n",
       "      <th>prefix</th>\n",
       "      <th>suffix</th>\n",
       "      <th>rank</th>\n",
       "    </tr>\n",
       "  </thead>\n",
       "  <tbody>\n",
       "    <tr>\n",
       "      <th>0</th>\n",
       "      <td>3324</td>\n",
       "      <td>89</td>\n",
       "      <td>0</td>\n",
       "    </tr>\n",
       "    <tr>\n",
       "      <th>1</th>\n",
       "      <td>3324</td>\n",
       "      <td>98</td>\n",
       "      <td>0</td>\n",
       "    </tr>\n",
       "    <tr>\n",
       "      <th>2</th>\n",
       "      <td>3325</td>\n",
       "      <td>79</td>\n",
       "      <td>0</td>\n",
       "    </tr>\n",
       "    <tr>\n",
       "      <th>3</th>\n",
       "      <td>3325</td>\n",
       "      <td>88</td>\n",
       "      <td>0</td>\n",
       "    </tr>\n",
       "    <tr>\n",
       "      <th>4</th>\n",
       "      <td>3325</td>\n",
       "      <td>97</td>\n",
       "      <td>0</td>\n",
       "    </tr>\n",
       "  </tbody>\n",
       "</table>\n",
       "</div>"
      ],
      "text/plain": [
       "   prefix  suffix  rank\n",
       "0    3324      89     0\n",
       "1    3324      98     0\n",
       "2    3325      79     0\n",
       "3    3325      88     0\n",
       "4    3325      97     0"
      ]
     },
     "execution_count": 15,
     "metadata": {},
     "output_type": "execute_result"
    }
   ],
   "source": [
    "uniq_suf_pref['rank'] = uniq_suf_pref.apply(get_rank, axis=1, args=[len(data)-1, data])\n",
    "uniq_suf_pref.head()\n"
   ]
  },
  {
   "cell_type": "markdown",
   "metadata": {},
   "source": [
    "Такие ранги найдены:"
   ]
  },
  {
   "cell_type": "code",
   "execution_count": 16,
   "metadata": {},
   "outputs": [
    {
     "data": {
      "text/plain": [
       "0    1113\n",
       "Name: rank, dtype: int64"
      ]
     },
     "execution_count": 16,
     "metadata": {},
     "output_type": "execute_result"
    }
   ],
   "source": [
    "uniq_suf_pref['rank'].value_counts()"
   ]
  },
  {
   "cell_type": "markdown",
   "metadata": {},
   "source": [
    "**Итог**:  \n",
    "Ни одно из сочетаний префикс-суффикс не является частью непрерывного пула.  \n",
    "Данное исследование оставлю в анализе - как полезное для будущих расчетов."
   ]
  },
  {
   "cell_type": "markdown",
   "metadata": {},
   "source": [
    "[К содержанию](#0.) \n",
    "<a id=\"2.4.\"></a> \n",
    "### 2.4. Наиболее вероятные кандидаты на шаблоны номеров, принадлежащие flash call сервисам"
   ]
  },
  {
   "cell_type": "markdown",
   "metadata": {},
   "source": [
    "Т.к. результат получен только для п.п. 2.2. и 2.3., то искомыми кандидатами буду считать сочетания суффикс-префикс, имеющиеся в итоговых таблицах только из этих пунктов(одновременно):"
   ]
  },
  {
   "cell_type": "code",
   "execution_count": 17,
   "metadata": {},
   "outputs": [
    {
     "name": "stdout",
     "output_type": "stream",
     "text": [
      "Итого сочетаний: 76\n"
     ]
    }
   ],
   "source": [
    "goal_pref_suf = (\n",
    "    pref_suf_same_code.merge(pref_suf_repeat_combins, on=['prefix', 'suffix'])\n",
    "    .sort_values(by=['prefix', 'suffix'])\n",
    ")\n",
    "print('Итого сочетаний:', goal_pref_suf.shape[0])\n"
   ]
  },
  {
   "cell_type": "markdown",
   "metadata": {},
   "source": [
    "Схематично отображу распределение полученных шаблонов:"
   ]
  },
  {
   "cell_type": "code",
   "execution_count": 18,
   "metadata": {},
   "outputs": [
    {
     "data": {
      "image/png": "[encoded data removed]",
      "text/plain": [
       "<Figure size 1368x720 with 1 Axes>"
      ]
     },
     "metadata": {
      "needs_background": "light"
     },
     "output_type": "display_data"
    }
   ],
   "source": [
    "plt.figure(figsize=(19,10))\n",
    "ax = sns.scatterplot(data=goal_pref_suf, x='prefix', y='suffix')\n",
    "ax.set_title('Шаблоны предполагаемых номеров flash call',\n",
    "                 fontdict={'fontsize': 13, 'fontweight': 'bold'})\n",
    "ax.set_xlabel('Префикс', fontdict={'fontsize': 11, 'fontweight': 'bold'})\n",
    "ax.set_ylabel('Суффикс', fontdict={'fontsize': 11, 'fontweight': 'bold'})\n",
    "sns.despine()\n"
   ]
  },
  {
   "cell_type": "markdown",
   "metadata": {},
   "source": [
    "[К содержанию](#0.) \n",
    "<a id=\"3.\"></a> \n",
    "## 3. Вывод"
   ]
  },
  {
   "cell_type": "markdown",
   "metadata": {},
   "source": [
    "1. Найдены подозрительные шаблоны в двух группах анализа:\n",
    " - Вызовы с одинаковой кодовой частью\n",
    " - Вызовы с одинаковым набором префикс-суффикс(префикс любой)\n",
    "2. В итоге получена таблица из 76-ти шаблонов, которые присутствуют одновременно в обеих группах.\n",
    "3. Найденные шаблоны схематично отображены на диаграмме"
   ]
  },
  {
   "cell_type": "code",
   "execution_count": null,
   "metadata": {},
   "outputs": [],
   "source": []
  }
 ],
 "metadata": {
  "kernelspec": {
   "display_name": "Python 3",
   "language": "python",
   "name": "python3"
  },
  "language_info": {
   "codemirror_mode": {
    "name": "ipython",
    "version": 3
   },
   "file_extension": ".py",
   "mimetype": "text/x-python",
   "name": "python",
   "nbconvert_exporter": "python",
   "pygments_lexer": "ipython3",
   "version": "3.7.6"
  },
  "toc": {
   "base_numbering": 1,
   "nav_menu": {},
   "number_sections": false,
   "sideBar": true,
   "skip_h1_title": false,
   "title_cell": "Table of Contents",
   "title_sidebar": "Contents",
   "toc_cell": false,
   "toc_position": {},
   "toc_section_display": true,
   "toc_window_display": false
  },
  "varInspector": {
   "cols": {
    "lenName": 16,
    "lenType": 16,
    "lenVar": 40
   },
   "kernels_config": {
    "python": {
     "delete_cmd_postfix": "",
     "delete_cmd_prefix": "del ",
     "library": "var_list.py",
     "varRefreshCmd": "print(var_dic_list())"
    },
    "r": {
     "delete_cmd_postfix": ") ",
     "delete_cmd_prefix": "rm(",
     "library": "var_list.r",
     "varRefreshCmd": "cat(var_dic_list()) "
    }
   },
   "types_to_exclude": [
    "module",
    "function",
    "builtin_function_or_method",
    "instance",
    "_Feature"
   ],
   "window_display": false
  }
 },
 "nbformat": 4,
 "nbformat_minor": 4
}
