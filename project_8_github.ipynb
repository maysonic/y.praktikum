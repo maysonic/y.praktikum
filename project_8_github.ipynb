{
 "cells": [
  {
   "cell_type": "markdown",
   "metadata": {},
   "source": [
    "<div class=\"alert alert-block alert-success\">\n",
    "<h1>\n",
    "<font color=green>\n",
    "ПРОЕКТ №8. Принятие решений в бизнесе на основе данных\n",
    "</font>\n",
    "</h1>\n",
    "</div>"
   ]
  },
  {
   "cell_type": "markdown",
   "metadata": {},
   "source": [
    "# Цели и задачи проекта:\n",
    " - Приоритизировать гипотезы\n",
    " - Запустить A/B-тест\n",
    " - Проанализировать результаты. "
   ]
  },
  {
   "cell_type": "markdown",
   "metadata": {},
   "source": [
    "# Входные данные:\n",
    "1. Таблица **hypothesis**:\n",
    " - Hypothesis — краткое описание гипотезы;\n",
    " - Reach — охват пользователей по 10-балльной шкале;\n",
    " - Impact — влияние на пользователей по 10-балльной шкале;\n",
    " - Confidence — уверенность в гипотезе по 10-балльной шкале;\n",
    " - Efforts — затраты ресурсов на проверку гипотезы по 10-балльной шкале. Чем больше значение Efforts, тем дороже проверка гипотезы.\n",
    " \n",
    " \n",
    "2. Таблица **orders**:\n",
    " - transactionId — идентификатор заказа;\n",
    " - visitorId — идентификатор пользователя, совершившего заказ;\n",
    " - date — дата, когда был совершён заказ;\n",
    " - revenue — выручка заказа;\n",
    " - group — группа A/B-теста, в которую попал заказ.\n",
    " \n",
    " \n",
    "3. Таблица **visitors**:\n",
    " - date — дата;\n",
    " - group — группа A/B-теста;\n",
    " - visitors — количество пользователей в указанную дату в указанной группе A/B-теста"
   ]
  },
  {
   "cell_type": "markdown",
   "metadata": {},
   "source": [
    "<a name=\"0\">-></a> "
   ]
  },
  {
   "cell_type": "markdown",
   "metadata": {},
   "source": [
    "# Содержание:   \n",
    "  \n",
    "<p>\n",
    "<a href=\"#1.\">1. Приоритизация гипотез</a>\n",
    "    <div><a href=\"#1.1.\">&ensp;1.1. Применение фреймворка ICE для приоритизации гипотез</a></div>\n",
    "    <div><a href=\"#1.2.\">&ensp;1.2. Применение фреймворка RICE для приоритизации гипотез</a></div>\n",
    "    <div><a href=\"#1.3.\">&ensp;1.3. Выводы по разнице результатов применения фреймворков ICE и RICE.</a></div>\n",
    "</p> \n",
    "\n",
    "<p>\n",
    "<a href=\"#2.\">2. Анализ A/B-теста</a>\n",
    "    <div><a href=\"#2.1.\">&ensp;2.1. Первичный обзор и подготовка таблиц с заказами и посетителями</a></div>\n",
    "    <div><a href=\"#2.2.\">&ensp;2.2. Предварительное агрегирование данных</a></div>\n",
    "    <div><a href=\"#2.3.\">&ensp;2.3. График кумулятивной выручки по группам</a></div>\n",
    "    <div><a href=\"#2.4.\">&ensp;2.4. График кумулятивного среднего чека по группам</a></div>\n",
    "    <div><a href=\"#2.5.\">&ensp;2.5. График относительного изменения кумулятивного среднего чека группы B к группе A</a></div>\n",
    "    <div><a href=\"#2.6.\">&ensp;2.6. График кумулятивной конверсии по группам</a></div>\n",
    "    <div><a href=\"#2.7.\">&ensp;2.7. График относительного изменения кумулятивной конверсии группы B к группе A</a></div>\n",
    "    <div><a href=\"#2.8.\">&ensp;2.8. Точечный график количества заказов по пользователям</a></div>\n",
    "    <div><a href=\"#2.9.\">&ensp;2.9. 95-й и 99-й перцентили количества заказов на пользователя</a></div>\n",
    "    <div><a href=\"#2.10.\">&ensp;2.10. Точечный график стоимостей заказов</a></div>\n",
    "    <div><a href=\"#2.11.\">&ensp;2.11. 95-й и 99-й перцентили стоимости заказов</a></div>\n",
    "    <div><a href=\"#2.12.\">&ensp;2.12. Статистическая значимость различий в конверсии между группами по «сырым» данным</a></div>\n",
    "    <div><a href=\"#2.13.\">&ensp;2.13. Статистическая значимость различий в среднем чеке заказа между группами по «сырым» данным</a></div>\n",
    "    <div><a href=\"#2.14.\">&ensp;2.14. Статистическая значимость различий в конверсии между группами по «очищенным» данным</a></div>\n",
    "    <div><a href=\"#2.15.\">&ensp;2.15. Статистическая значимость различий в среднем чеке заказа между группами по «очищенным» данным</a></div>\n",
    "    <div><a href=\"#2.16.\">&ensp;2.16. Дополнения к проведенным подсчетам</a></div>\n",
    "    <div><a href=\"#2.17.\">&ensp;2.17. Выводы по результатам теста</a></div>\n",
    "</p>\n",
    "\n",
    "<p><a href=\"#3.\">3. Общий вывод</a></p> "
   ]
  },
  {
   "cell_type": "markdown",
   "metadata": {},
   "source": [
    "<a name=\"1.\">-></a> \n",
    "<a href=\"#0\">К содержанию</a>"
   ]
  },
  {
   "cell_type": "code",
   "execution_count": 1,
   "metadata": {},
   "outputs": [],
   "source": [
    "import pandas as pd\n",
    "import numpy as np\n",
    "import datetime as dt\n",
    "import matplotlib.pyplot as plt\n",
    "from scipy import stats as st\n",
    "import seaborn as sns\n",
    "from pandas.plotting import register_matplotlib_converters"
   ]
  },
  {
   "cell_type": "code",
   "execution_count": 2,
   "metadata": {},
   "outputs": [],
   "source": [
    "pd.set_option('display.max_columns', None)\n",
    "pd.set_option('display.max_colwidth', 150)\n",
    "register_matplotlib_converters()"
   ]
  },
  {
   "cell_type": "markdown",
   "metadata": {},
   "source": [
    "# 1. Приоритизация гипотез"
   ]
  },
  {
   "cell_type": "markdown",
   "metadata": {},
   "source": [
    "Загружу таблицу с гипотезами и приведу названия столбцов к нижнему регистру:"
   ]
  },
  {
   "cell_type": "code",
   "execution_count": 3,
   "metadata": {},
   "outputs": [],
   "source": [
    "hypothesis = pd.read_csv('datasets/hypothesis.csv')"
   ]
  },
  {
   "cell_type": "code",
   "execution_count": 4,
   "metadata": {},
   "outputs": [],
   "source": [
    "hypothesis.columns = hypothesis.columns.str.lower()"
   ]
  },
  {
   "cell_type": "markdown",
   "metadata": {},
   "source": [
    "<a name=\"1.1.\">-></a> \n",
    "<a href=\"#0\">К содержанию</a>"
   ]
  },
  {
   "cell_type": "markdown",
   "metadata": {},
   "source": [
    "## 1.1. Применение фреймворка ICE для приоритизации гипотез"
   ]
  },
  {
   "cell_type": "code",
   "execution_count": 5,
   "metadata": {},
   "outputs": [
    {
     "data": {
      "text/html": [
       "<div>\n",
       "<style scoped>\n",
       "    .dataframe tbody tr th:only-of-type {\n",
       "        vertical-align: middle;\n",
       "    }\n",
       "\n",
       "    .dataframe tbody tr th {\n",
       "        vertical-align: top;\n",
       "    }\n",
       "\n",
       "    .dataframe thead th {\n",
       "        text-align: right;\n",
       "    }\n",
       "</style>\n",
       "<table border=\"1\" class=\"dataframe\">\n",
       "  <thead>\n",
       "    <tr style=\"text-align: right;\">\n",
       "      <th></th>\n",
       "      <th>hypothesis</th>\n",
       "      <th>reach</th>\n",
       "      <th>impact</th>\n",
       "      <th>confidence</th>\n",
       "      <th>efforts</th>\n",
       "    </tr>\n",
       "  </thead>\n",
       "  <tbody>\n",
       "    <tr>\n",
       "      <td>0</td>\n",
       "      <td>Добавить два новых канала привлечения трафика, что позволит привлекать на 30% больше пользователей</td>\n",
       "      <td>3</td>\n",
       "      <td>10</td>\n",
       "      <td>8</td>\n",
       "      <td>6</td>\n",
       "    </tr>\n",
       "    <tr>\n",
       "      <td>1</td>\n",
       "      <td>Запустить собственную службу доставки, что сократит срок доставки заказов</td>\n",
       "      <td>2</td>\n",
       "      <td>5</td>\n",
       "      <td>4</td>\n",
       "      <td>10</td>\n",
       "    </tr>\n",
       "    <tr>\n",
       "      <td>2</td>\n",
       "      <td>Добавить блоки рекомендаций товаров на сайт интернет магазина, чтобы повысить конверсию и средний чек заказа</td>\n",
       "      <td>8</td>\n",
       "      <td>3</td>\n",
       "      <td>7</td>\n",
       "      <td>3</td>\n",
       "    </tr>\n",
       "    <tr>\n",
       "      <td>3</td>\n",
       "      <td>Изменить структура категорий, что увеличит конверсию, т.к. пользователи быстрее найдут нужный товар</td>\n",
       "      <td>8</td>\n",
       "      <td>3</td>\n",
       "      <td>3</td>\n",
       "      <td>8</td>\n",
       "    </tr>\n",
       "    <tr>\n",
       "      <td>4</td>\n",
       "      <td>Изменить цвет фона главной страницы, чтобы увеличить вовлеченность пользователей</td>\n",
       "      <td>3</td>\n",
       "      <td>1</td>\n",
       "      <td>1</td>\n",
       "      <td>1</td>\n",
       "    </tr>\n",
       "    <tr>\n",
       "      <td>5</td>\n",
       "      <td>Добавить страницу отзывов клиентов о магазине, что позволит увеличить количество заказов</td>\n",
       "      <td>3</td>\n",
       "      <td>2</td>\n",
       "      <td>2</td>\n",
       "      <td>3</td>\n",
       "    </tr>\n",
       "    <tr>\n",
       "      <td>6</td>\n",
       "      <td>Показать на главной странице баннеры с актуальными акциями и распродажами, чтобы увеличить конверсию</td>\n",
       "      <td>5</td>\n",
       "      <td>3</td>\n",
       "      <td>8</td>\n",
       "      <td>3</td>\n",
       "    </tr>\n",
       "    <tr>\n",
       "      <td>7</td>\n",
       "      <td>Добавить форму подписки на все основные страницы, чтобы собрать базу клиентов для email-рассылок</td>\n",
       "      <td>10</td>\n",
       "      <td>7</td>\n",
       "      <td>8</td>\n",
       "      <td>5</td>\n",
       "    </tr>\n",
       "    <tr>\n",
       "      <td>8</td>\n",
       "      <td>Запустить акцию, дающую скидку на товар в день рождения</td>\n",
       "      <td>1</td>\n",
       "      <td>9</td>\n",
       "      <td>9</td>\n",
       "      <td>5</td>\n",
       "    </tr>\n",
       "  </tbody>\n",
       "</table>\n",
       "</div>"
      ],
      "text/plain": [
       "                                                                                                     hypothesis  \\\n",
       "0            Добавить два новых канала привлечения трафика, что позволит привлекать на 30% больше пользователей   \n",
       "1                                     Запустить собственную службу доставки, что сократит срок доставки заказов   \n",
       "2  Добавить блоки рекомендаций товаров на сайт интернет магазина, чтобы повысить конверсию и средний чек заказа   \n",
       "3           Изменить структура категорий, что увеличит конверсию, т.к. пользователи быстрее найдут нужный товар   \n",
       "4                              Изменить цвет фона главной страницы, чтобы увеличить вовлеченность пользователей   \n",
       "5                      Добавить страницу отзывов клиентов о магазине, что позволит увеличить количество заказов   \n",
       "6          Показать на главной странице баннеры с актуальными акциями и распродажами, чтобы увеличить конверсию   \n",
       "7              Добавить форму подписки на все основные страницы, чтобы собрать базу клиентов для email-рассылок   \n",
       "8                                                       Запустить акцию, дающую скидку на товар в день рождения   \n",
       "\n",
       "   reach  impact  confidence  efforts  \n",
       "0      3      10           8        6  \n",
       "1      2       5           4       10  \n",
       "2      8       3           7        3  \n",
       "3      8       3           3        8  \n",
       "4      3       1           1        1  \n",
       "5      3       2           2        3  \n",
       "6      5       3           8        3  \n",
       "7     10       7           8        5  \n",
       "8      1       9           9        5  "
      ]
     },
     "execution_count": 5,
     "metadata": {},
     "output_type": "execute_result"
    }
   ],
   "source": [
    "hypothesis"
   ]
  },
  {
   "cell_type": "markdown",
   "metadata": {},
   "source": [
    "Добавлю столбец со значениями ICE и отсортирую по убыванию приоритета:"
   ]
  },
  {
   "cell_type": "code",
   "execution_count": 6,
   "metadata": {},
   "outputs": [],
   "source": [
    "hypothesis['ICE'] = round(hypothesis['impact'] * hypothesis['confidence'] / hypothesis['efforts'], 3)\n",
    "hypothesis.sort_values(by='ICE', ascending=False, inplace=True)"
   ]
  },
  {
   "cell_type": "markdown",
   "metadata": {},
   "source": [
    "Также добавлю столбец с приоритетами гипотез - в соответствии со значениями ICE:"
   ]
  },
  {
   "cell_type": "code",
   "execution_count": 7,
   "metadata": {
    "scrolled": false
   },
   "outputs": [
    {
     "data": {
      "text/html": [
       "<div>\n",
       "<style scoped>\n",
       "    .dataframe tbody tr th:only-of-type {\n",
       "        vertical-align: middle;\n",
       "    }\n",
       "\n",
       "    .dataframe tbody tr th {\n",
       "        vertical-align: top;\n",
       "    }\n",
       "\n",
       "    .dataframe thead th {\n",
       "        text-align: right;\n",
       "    }\n",
       "</style>\n",
       "<table border=\"1\" class=\"dataframe\">\n",
       "  <thead>\n",
       "    <tr style=\"text-align: right;\">\n",
       "      <th></th>\n",
       "      <th>hypothesis</th>\n",
       "      <th>reach</th>\n",
       "      <th>impact</th>\n",
       "      <th>confidence</th>\n",
       "      <th>efforts</th>\n",
       "      <th>ICE</th>\n",
       "      <th>ICE_priority</th>\n",
       "    </tr>\n",
       "  </thead>\n",
       "  <tbody>\n",
       "    <tr>\n",
       "      <td>8</td>\n",
       "      <td>Запустить акцию, дающую скидку на товар в день рождения</td>\n",
       "      <td>1</td>\n",
       "      <td>9</td>\n",
       "      <td>9</td>\n",
       "      <td>5</td>\n",
       "      <td>16.200</td>\n",
       "      <td>1</td>\n",
       "    </tr>\n",
       "    <tr>\n",
       "      <td>0</td>\n",
       "      <td>Добавить два новых канала привлечения трафика, что позволит привлекать на 30% больше пользователей</td>\n",
       "      <td>3</td>\n",
       "      <td>10</td>\n",
       "      <td>8</td>\n",
       "      <td>6</td>\n",
       "      <td>13.333</td>\n",
       "      <td>2</td>\n",
       "    </tr>\n",
       "    <tr>\n",
       "      <td>7</td>\n",
       "      <td>Добавить форму подписки на все основные страницы, чтобы собрать базу клиентов для email-рассылок</td>\n",
       "      <td>10</td>\n",
       "      <td>7</td>\n",
       "      <td>8</td>\n",
       "      <td>5</td>\n",
       "      <td>11.200</td>\n",
       "      <td>3</td>\n",
       "    </tr>\n",
       "    <tr>\n",
       "      <td>6</td>\n",
       "      <td>Показать на главной странице баннеры с актуальными акциями и распродажами, чтобы увеличить конверсию</td>\n",
       "      <td>5</td>\n",
       "      <td>3</td>\n",
       "      <td>8</td>\n",
       "      <td>3</td>\n",
       "      <td>8.000</td>\n",
       "      <td>4</td>\n",
       "    </tr>\n",
       "    <tr>\n",
       "      <td>2</td>\n",
       "      <td>Добавить блоки рекомендаций товаров на сайт интернет магазина, чтобы повысить конверсию и средний чек заказа</td>\n",
       "      <td>8</td>\n",
       "      <td>3</td>\n",
       "      <td>7</td>\n",
       "      <td>3</td>\n",
       "      <td>7.000</td>\n",
       "      <td>5</td>\n",
       "    </tr>\n",
       "    <tr>\n",
       "      <td>1</td>\n",
       "      <td>Запустить собственную службу доставки, что сократит срок доставки заказов</td>\n",
       "      <td>2</td>\n",
       "      <td>5</td>\n",
       "      <td>4</td>\n",
       "      <td>10</td>\n",
       "      <td>2.000</td>\n",
       "      <td>6</td>\n",
       "    </tr>\n",
       "    <tr>\n",
       "      <td>5</td>\n",
       "      <td>Добавить страницу отзывов клиентов о магазине, что позволит увеличить количество заказов</td>\n",
       "      <td>3</td>\n",
       "      <td>2</td>\n",
       "      <td>2</td>\n",
       "      <td>3</td>\n",
       "      <td>1.333</td>\n",
       "      <td>7</td>\n",
       "    </tr>\n",
       "    <tr>\n",
       "      <td>3</td>\n",
       "      <td>Изменить структура категорий, что увеличит конверсию, т.к. пользователи быстрее найдут нужный товар</td>\n",
       "      <td>8</td>\n",
       "      <td>3</td>\n",
       "      <td>3</td>\n",
       "      <td>8</td>\n",
       "      <td>1.125</td>\n",
       "      <td>8</td>\n",
       "    </tr>\n",
       "    <tr>\n",
       "      <td>4</td>\n",
       "      <td>Изменить цвет фона главной страницы, чтобы увеличить вовлеченность пользователей</td>\n",
       "      <td>3</td>\n",
       "      <td>1</td>\n",
       "      <td>1</td>\n",
       "      <td>1</td>\n",
       "      <td>1.000</td>\n",
       "      <td>9</td>\n",
       "    </tr>\n",
       "  </tbody>\n",
       "</table>\n",
       "</div>"
      ],
      "text/plain": [
       "                                                                                                     hypothesis  \\\n",
       "8                                                       Запустить акцию, дающую скидку на товар в день рождения   \n",
       "0            Добавить два новых канала привлечения трафика, что позволит привлекать на 30% больше пользователей   \n",
       "7              Добавить форму подписки на все основные страницы, чтобы собрать базу клиентов для email-рассылок   \n",
       "6          Показать на главной странице баннеры с актуальными акциями и распродажами, чтобы увеличить конверсию   \n",
       "2  Добавить блоки рекомендаций товаров на сайт интернет магазина, чтобы повысить конверсию и средний чек заказа   \n",
       "1                                     Запустить собственную службу доставки, что сократит срок доставки заказов   \n",
       "5                      Добавить страницу отзывов клиентов о магазине, что позволит увеличить количество заказов   \n",
       "3           Изменить структура категорий, что увеличит конверсию, т.к. пользователи быстрее найдут нужный товар   \n",
       "4                              Изменить цвет фона главной страницы, чтобы увеличить вовлеченность пользователей   \n",
       "\n",
       "   reach  impact  confidence  efforts     ICE  ICE_priority  \n",
       "8      1       9           9        5  16.200             1  \n",
       "0      3      10           8        6  13.333             2  \n",
       "7     10       7           8        5  11.200             3  \n",
       "6      5       3           8        3   8.000             4  \n",
       "2      8       3           7        3   7.000             5  \n",
       "1      2       5           4       10   2.000             6  \n",
       "5      3       2           2        3   1.333             7  \n",
       "3      8       3           3        8   1.125             8  \n",
       "4      3       1           1        1   1.000             9  "
      ]
     },
     "execution_count": 7,
     "metadata": {},
     "output_type": "execute_result"
    }
   ],
   "source": [
    "hypothesis['ICE_priority'] = [num for num in range(1, len(hypothesis)+1)]\n",
    "hypothesis"
   ]
  },
  {
   "cell_type": "markdown",
   "metadata": {},
   "source": [
    "<a name=\"1.2.\">-></a> \n",
    "<a href=\"#0\">К содержанию</a>"
   ]
  },
  {
   "cell_type": "markdown",
   "metadata": {},
   "source": [
    "## 1.2. Применение фреймворка RICE для приоритизации гипотез"
   ]
  },
  {
   "cell_type": "markdown",
   "metadata": {},
   "source": [
    "Добавлю столбец со значениями RICE и отсортирую по убыванию приоритета:"
   ]
  },
  {
   "cell_type": "code",
   "execution_count": 8,
   "metadata": {},
   "outputs": [],
   "source": [
    "hypothesis['RICE'] = round(hypothesis['reach'] * hypothesis['impact'] * hypothesis['confidence'] / hypothesis['efforts'], 3)\n",
    "hypothesis.sort_values(by='RICE', ascending=False, inplace=True)"
   ]
  },
  {
   "cell_type": "markdown",
   "metadata": {},
   "source": [
    "Добавлю столбец с приоритетами гипотез - в соответствии со значениями RICE:"
   ]
  },
  {
   "cell_type": "code",
   "execution_count": 9,
   "metadata": {
    "scrolled": false
   },
   "outputs": [
    {
     "data": {
      "text/html": [
       "<div>\n",
       "<style scoped>\n",
       "    .dataframe tbody tr th:only-of-type {\n",
       "        vertical-align: middle;\n",
       "    }\n",
       "\n",
       "    .dataframe tbody tr th {\n",
       "        vertical-align: top;\n",
       "    }\n",
       "\n",
       "    .dataframe thead th {\n",
       "        text-align: right;\n",
       "    }\n",
       "</style>\n",
       "<table border=\"1\" class=\"dataframe\">\n",
       "  <thead>\n",
       "    <tr style=\"text-align: right;\">\n",
       "      <th></th>\n",
       "      <th>hypothesis</th>\n",
       "      <th>reach</th>\n",
       "      <th>impact</th>\n",
       "      <th>confidence</th>\n",
       "      <th>efforts</th>\n",
       "      <th>ICE</th>\n",
       "      <th>ICE_priority</th>\n",
       "      <th>RICE</th>\n",
       "      <th>RICE_priority</th>\n",
       "    </tr>\n",
       "  </thead>\n",
       "  <tbody>\n",
       "    <tr>\n",
       "      <td>7</td>\n",
       "      <td>Добавить форму подписки на все основные страницы, чтобы собрать базу клиентов для email-рассылок</td>\n",
       "      <td>10</td>\n",
       "      <td>7</td>\n",
       "      <td>8</td>\n",
       "      <td>5</td>\n",
       "      <td>11.200</td>\n",
       "      <td>3</td>\n",
       "      <td>112.0</td>\n",
       "      <td>1</td>\n",
       "    </tr>\n",
       "    <tr>\n",
       "      <td>2</td>\n",
       "      <td>Добавить блоки рекомендаций товаров на сайт интернет магазина, чтобы повысить конверсию и средний чек заказа</td>\n",
       "      <td>8</td>\n",
       "      <td>3</td>\n",
       "      <td>7</td>\n",
       "      <td>3</td>\n",
       "      <td>7.000</td>\n",
       "      <td>5</td>\n",
       "      <td>56.0</td>\n",
       "      <td>2</td>\n",
       "    </tr>\n",
       "    <tr>\n",
       "      <td>0</td>\n",
       "      <td>Добавить два новых канала привлечения трафика, что позволит привлекать на 30% больше пользователей</td>\n",
       "      <td>3</td>\n",
       "      <td>10</td>\n",
       "      <td>8</td>\n",
       "      <td>6</td>\n",
       "      <td>13.333</td>\n",
       "      <td>2</td>\n",
       "      <td>40.0</td>\n",
       "      <td>3</td>\n",
       "    </tr>\n",
       "    <tr>\n",
       "      <td>6</td>\n",
       "      <td>Показать на главной странице баннеры с актуальными акциями и распродажами, чтобы увеличить конверсию</td>\n",
       "      <td>5</td>\n",
       "      <td>3</td>\n",
       "      <td>8</td>\n",
       "      <td>3</td>\n",
       "      <td>8.000</td>\n",
       "      <td>4</td>\n",
       "      <td>40.0</td>\n",
       "      <td>4</td>\n",
       "    </tr>\n",
       "    <tr>\n",
       "      <td>8</td>\n",
       "      <td>Запустить акцию, дающую скидку на товар в день рождения</td>\n",
       "      <td>1</td>\n",
       "      <td>9</td>\n",
       "      <td>9</td>\n",
       "      <td>5</td>\n",
       "      <td>16.200</td>\n",
       "      <td>1</td>\n",
       "      <td>16.2</td>\n",
       "      <td>5</td>\n",
       "    </tr>\n",
       "    <tr>\n",
       "      <td>3</td>\n",
       "      <td>Изменить структура категорий, что увеличит конверсию, т.к. пользователи быстрее найдут нужный товар</td>\n",
       "      <td>8</td>\n",
       "      <td>3</td>\n",
       "      <td>3</td>\n",
       "      <td>8</td>\n",
       "      <td>1.125</td>\n",
       "      <td>8</td>\n",
       "      <td>9.0</td>\n",
       "      <td>6</td>\n",
       "    </tr>\n",
       "    <tr>\n",
       "      <td>1</td>\n",
       "      <td>Запустить собственную службу доставки, что сократит срок доставки заказов</td>\n",
       "      <td>2</td>\n",
       "      <td>5</td>\n",
       "      <td>4</td>\n",
       "      <td>10</td>\n",
       "      <td>2.000</td>\n",
       "      <td>6</td>\n",
       "      <td>4.0</td>\n",
       "      <td>7</td>\n",
       "    </tr>\n",
       "    <tr>\n",
       "      <td>5</td>\n",
       "      <td>Добавить страницу отзывов клиентов о магазине, что позволит увеличить количество заказов</td>\n",
       "      <td>3</td>\n",
       "      <td>2</td>\n",
       "      <td>2</td>\n",
       "      <td>3</td>\n",
       "      <td>1.333</td>\n",
       "      <td>7</td>\n",
       "      <td>4.0</td>\n",
       "      <td>8</td>\n",
       "    </tr>\n",
       "    <tr>\n",
       "      <td>4</td>\n",
       "      <td>Изменить цвет фона главной страницы, чтобы увеличить вовлеченность пользователей</td>\n",
       "      <td>3</td>\n",
       "      <td>1</td>\n",
       "      <td>1</td>\n",
       "      <td>1</td>\n",
       "      <td>1.000</td>\n",
       "      <td>9</td>\n",
       "      <td>3.0</td>\n",
       "      <td>9</td>\n",
       "    </tr>\n",
       "  </tbody>\n",
       "</table>\n",
       "</div>"
      ],
      "text/plain": [
       "                                                                                                     hypothesis  \\\n",
       "7              Добавить форму подписки на все основные страницы, чтобы собрать базу клиентов для email-рассылок   \n",
       "2  Добавить блоки рекомендаций товаров на сайт интернет магазина, чтобы повысить конверсию и средний чек заказа   \n",
       "0            Добавить два новых канала привлечения трафика, что позволит привлекать на 30% больше пользователей   \n",
       "6          Показать на главной странице баннеры с актуальными акциями и распродажами, чтобы увеличить конверсию   \n",
       "8                                                       Запустить акцию, дающую скидку на товар в день рождения   \n",
       "3           Изменить структура категорий, что увеличит конверсию, т.к. пользователи быстрее найдут нужный товар   \n",
       "1                                     Запустить собственную службу доставки, что сократит срок доставки заказов   \n",
       "5                      Добавить страницу отзывов клиентов о магазине, что позволит увеличить количество заказов   \n",
       "4                              Изменить цвет фона главной страницы, чтобы увеличить вовлеченность пользователей   \n",
       "\n",
       "   reach  impact  confidence  efforts     ICE  ICE_priority   RICE  \\\n",
       "7     10       7           8        5  11.200             3  112.0   \n",
       "2      8       3           7        3   7.000             5   56.0   \n",
       "0      3      10           8        6  13.333             2   40.0   \n",
       "6      5       3           8        3   8.000             4   40.0   \n",
       "8      1       9           9        5  16.200             1   16.2   \n",
       "3      8       3           3        8   1.125             8    9.0   \n",
       "1      2       5           4       10   2.000             6    4.0   \n",
       "5      3       2           2        3   1.333             7    4.0   \n",
       "4      3       1           1        1   1.000             9    3.0   \n",
       "\n",
       "   RICE_priority  \n",
       "7              1  \n",
       "2              2  \n",
       "0              3  \n",
       "6              4  \n",
       "8              5  \n",
       "3              6  \n",
       "1              7  \n",
       "5              8  \n",
       "4              9  "
      ]
     },
     "execution_count": 9,
     "metadata": {},
     "output_type": "execute_result"
    }
   ],
   "source": [
    "hypothesis['RICE_priority'] = [num for num in range(1, len(hypothesis)+1)]\n",
    "hypothesis"
   ]
  },
  {
   "cell_type": "markdown",
   "metadata": {},
   "source": [
    "<a name=\"1.2.\">-></a> \n",
    "<a href=\"#0\">К содержанию</a>"
   ]
  },
  {
   "cell_type": "markdown",
   "metadata": {},
   "source": [
    "## 1.3. Выводы по разнице результатов применения фреймворков ICE и RICE."
   ]
  },
  {
   "cell_type": "markdown",
   "metadata": {},
   "source": [
    "После применения фреймворка RICE вместо ICE вперед вышли гипотезы с максимальным показателем охвата аудитории Reach.  Но пятерка лидеров не изменилась. Итоговый рейтинг таков:"
   ]
  },
  {
   "cell_type": "code",
   "execution_count": 10,
   "metadata": {},
   "outputs": [
    {
     "data": {
      "text/html": [
       "<style  type=\"text/css\" >\n",
       "    #T_384e9412_4102_11eb_b6d3_448a5b5a6721row0_col0 {\n",
       "            background-color:  #3b528b;\n",
       "            color:  #f1f1f1;\n",
       "        }    #T_384e9412_4102_11eb_b6d3_448a5b5a6721row0_col1 {\n",
       "            background-color:  #440154;\n",
       "            color:  #f1f1f1;\n",
       "        }    #T_384e9412_4102_11eb_b6d3_448a5b5a6721row1_col0 {\n",
       "            background-color:  #21918c;\n",
       "            color:  #000000;\n",
       "        }    #T_384e9412_4102_11eb_b6d3_448a5b5a6721row1_col1 {\n",
       "            background-color:  #472d7b;\n",
       "            color:  #f1f1f1;\n",
       "        }    #T_384e9412_4102_11eb_b6d3_448a5b5a6721row2_col0 {\n",
       "            background-color:  #472d7b;\n",
       "            color:  #f1f1f1;\n",
       "        }    #T_384e9412_4102_11eb_b6d3_448a5b5a6721row2_col1 {\n",
       "            background-color:  #3b528b;\n",
       "            color:  #f1f1f1;\n",
       "        }    #T_384e9412_4102_11eb_b6d3_448a5b5a6721row3_col0 {\n",
       "            background-color:  #2c728e;\n",
       "            color:  #f1f1f1;\n",
       "        }    #T_384e9412_4102_11eb_b6d3_448a5b5a6721row3_col1 {\n",
       "            background-color:  #2c728e;\n",
       "            color:  #f1f1f1;\n",
       "        }    #T_384e9412_4102_11eb_b6d3_448a5b5a6721row4_col0 {\n",
       "            background-color:  #440154;\n",
       "            color:  #f1f1f1;\n",
       "        }    #T_384e9412_4102_11eb_b6d3_448a5b5a6721row4_col1 {\n",
       "            background-color:  #21918c;\n",
       "            color:  #000000;\n",
       "        }    #T_384e9412_4102_11eb_b6d3_448a5b5a6721row5_col0 {\n",
       "            background-color:  #addc30;\n",
       "            color:  #000000;\n",
       "        }    #T_384e9412_4102_11eb_b6d3_448a5b5a6721row5_col1 {\n",
       "            background-color:  #28ae80;\n",
       "            color:  #000000;\n",
       "        }    #T_384e9412_4102_11eb_b6d3_448a5b5a6721row6_col0 {\n",
       "            background-color:  #28ae80;\n",
       "            color:  #000000;\n",
       "        }    #T_384e9412_4102_11eb_b6d3_448a5b5a6721row6_col1 {\n",
       "            background-color:  #5ec962;\n",
       "            color:  #000000;\n",
       "        }    #T_384e9412_4102_11eb_b6d3_448a5b5a6721row7_col0 {\n",
       "            background-color:  #5ec962;\n",
       "            color:  #000000;\n",
       "        }    #T_384e9412_4102_11eb_b6d3_448a5b5a6721row7_col1 {\n",
       "            background-color:  #addc30;\n",
       "            color:  #000000;\n",
       "        }    #T_384e9412_4102_11eb_b6d3_448a5b5a6721row8_col0 {\n",
       "            background-color:  #fde725;\n",
       "            color:  #000000;\n",
       "        }    #T_384e9412_4102_11eb_b6d3_448a5b5a6721row8_col1 {\n",
       "            background-color:  #fde725;\n",
       "            color:  #000000;\n",
       "        }</style><table id=\"T_384e9412_4102_11eb_b6d3_448a5b5a6721\" ><thead>    <tr>        <th class=\"blank level0\" ></th>        <th class=\"col_heading level0 col0\" >ICE_priority</th>        <th class=\"col_heading level0 col1\" >RICE_priority</th>    </tr>    <tr>        <th class=\"index_name level0\" >hypothesis</th>        <th class=\"blank\" ></th>        <th class=\"blank\" ></th>    </tr></thead><tbody>\n",
       "                <tr>\n",
       "                        <th id=\"T_384e9412_4102_11eb_b6d3_448a5b5a6721level0_row0\" class=\"row_heading level0 row0\" >Добавить форму подписки на все основные страницы, чтобы собрать базу клиентов для email-рассылок</th>\n",
       "                        <td id=\"T_384e9412_4102_11eb_b6d3_448a5b5a6721row0_col0\" class=\"data row0 col0\" >3</td>\n",
       "                        <td id=\"T_384e9412_4102_11eb_b6d3_448a5b5a6721row0_col1\" class=\"data row0 col1\" >1</td>\n",
       "            </tr>\n",
       "            <tr>\n",
       "                        <th id=\"T_384e9412_4102_11eb_b6d3_448a5b5a6721level0_row1\" class=\"row_heading level0 row1\" >Добавить блоки рекомендаций товаров на сайт интернет магазина, чтобы повысить конверсию и средний чек заказа</th>\n",
       "                        <td id=\"T_384e9412_4102_11eb_b6d3_448a5b5a6721row1_col0\" class=\"data row1 col0\" >5</td>\n",
       "                        <td id=\"T_384e9412_4102_11eb_b6d3_448a5b5a6721row1_col1\" class=\"data row1 col1\" >2</td>\n",
       "            </tr>\n",
       "            <tr>\n",
       "                        <th id=\"T_384e9412_4102_11eb_b6d3_448a5b5a6721level0_row2\" class=\"row_heading level0 row2\" >Добавить два новых канала привлечения трафика, что позволит привлекать на 30% больше пользователей</th>\n",
       "                        <td id=\"T_384e9412_4102_11eb_b6d3_448a5b5a6721row2_col0\" class=\"data row2 col0\" >2</td>\n",
       "                        <td id=\"T_384e9412_4102_11eb_b6d3_448a5b5a6721row2_col1\" class=\"data row2 col1\" >3</td>\n",
       "            </tr>\n",
       "            <tr>\n",
       "                        <th id=\"T_384e9412_4102_11eb_b6d3_448a5b5a6721level0_row3\" class=\"row_heading level0 row3\" >Показать на главной странице баннеры с актуальными акциями и распродажами, чтобы увеличить конверсию</th>\n",
       "                        <td id=\"T_384e9412_4102_11eb_b6d3_448a5b5a6721row3_col0\" class=\"data row3 col0\" >4</td>\n",
       "                        <td id=\"T_384e9412_4102_11eb_b6d3_448a5b5a6721row3_col1\" class=\"data row3 col1\" >4</td>\n",
       "            </tr>\n",
       "            <tr>\n",
       "                        <th id=\"T_384e9412_4102_11eb_b6d3_448a5b5a6721level0_row4\" class=\"row_heading level0 row4\" >Запустить акцию, дающую скидку на товар в день рождения</th>\n",
       "                        <td id=\"T_384e9412_4102_11eb_b6d3_448a5b5a6721row4_col0\" class=\"data row4 col0\" >1</td>\n",
       "                        <td id=\"T_384e9412_4102_11eb_b6d3_448a5b5a6721row4_col1\" class=\"data row4 col1\" >5</td>\n",
       "            </tr>\n",
       "            <tr>\n",
       "                        <th id=\"T_384e9412_4102_11eb_b6d3_448a5b5a6721level0_row5\" class=\"row_heading level0 row5\" >Изменить структура категорий, что увеличит конверсию, т.к. пользователи быстрее найдут нужный товар</th>\n",
       "                        <td id=\"T_384e9412_4102_11eb_b6d3_448a5b5a6721row5_col0\" class=\"data row5 col0\" >8</td>\n",
       "                        <td id=\"T_384e9412_4102_11eb_b6d3_448a5b5a6721row5_col1\" class=\"data row5 col1\" >6</td>\n",
       "            </tr>\n",
       "            <tr>\n",
       "                        <th id=\"T_384e9412_4102_11eb_b6d3_448a5b5a6721level0_row6\" class=\"row_heading level0 row6\" >Запустить собственную службу доставки, что сократит срок доставки заказов</th>\n",
       "                        <td id=\"T_384e9412_4102_11eb_b6d3_448a5b5a6721row6_col0\" class=\"data row6 col0\" >6</td>\n",
       "                        <td id=\"T_384e9412_4102_11eb_b6d3_448a5b5a6721row6_col1\" class=\"data row6 col1\" >7</td>\n",
       "            </tr>\n",
       "            <tr>\n",
       "                        <th id=\"T_384e9412_4102_11eb_b6d3_448a5b5a6721level0_row7\" class=\"row_heading level0 row7\" >Добавить страницу отзывов клиентов о магазине, что позволит увеличить количество заказов</th>\n",
       "                        <td id=\"T_384e9412_4102_11eb_b6d3_448a5b5a6721row7_col0\" class=\"data row7 col0\" >7</td>\n",
       "                        <td id=\"T_384e9412_4102_11eb_b6d3_448a5b5a6721row7_col1\" class=\"data row7 col1\" >8</td>\n",
       "            </tr>\n",
       "            <tr>\n",
       "                        <th id=\"T_384e9412_4102_11eb_b6d3_448a5b5a6721level0_row8\" class=\"row_heading level0 row8\" >Изменить цвет фона главной страницы, чтобы увеличить вовлеченность пользователей</th>\n",
       "                        <td id=\"T_384e9412_4102_11eb_b6d3_448a5b5a6721row8_col0\" class=\"data row8 col0\" >9</td>\n",
       "                        <td id=\"T_384e9412_4102_11eb_b6d3_448a5b5a6721row8_col1\" class=\"data row8 col1\" >9</td>\n",
       "            </tr>\n",
       "    </tbody></table>"
      ],
      "text/plain": [
       "<pandas.io.formats.style.Styler at 0x20b20878b08>"
      ]
     },
     "execution_count": 10,
     "metadata": {},
     "output_type": "execute_result"
    }
   ],
   "source": [
    "hypothesis_abbr = hypothesis[['ICE_priority', 'RICE_priority']].copy(deep=True).set_index(hypothesis['hypothesis'])\n",
    "hypothesis_abbr.style.background_gradient(cmap='viridis')"
   ]
  },
  {
   "cell_type": "markdown",
   "metadata": {},
   "source": [
    "<a name=\"2.\">-></a> \n",
    "<a href=\"#0\">К содержанию</a>"
   ]
  },
  {
   "cell_type": "markdown",
   "metadata": {},
   "source": [
    "# 2. Анализ A/B-теста"
   ]
  },
  {
   "cell_type": "markdown",
   "metadata": {},
   "source": [
    "<a name=\"2.1.\">-></a> \n",
    "<a href=\"#0\">К содержанию</a>"
   ]
  },
  {
   "cell_type": "markdown",
   "metadata": {},
   "source": [
    "## 2.1. Первичный обзор и подготовка таблиц с заказами и посетителями"
   ]
  },
  {
   "cell_type": "markdown",
   "metadata": {},
   "source": [
    "Необходимые для работы таблицы с заказами и посетителями:"
   ]
  },
  {
   "cell_type": "code",
   "execution_count": 11,
   "metadata": {},
   "outputs": [],
   "source": [
    "orders = pd.read_csv('datasets/orders.csv')\n",
    "visitors = pd.read_csv('datasets/visitors.csv')"
   ]
  },
  {
   "cell_type": "code",
   "execution_count": 12,
   "metadata": {},
   "outputs": [
    {
     "data": {
      "text/html": [
       "<div>\n",
       "<style scoped>\n",
       "    .dataframe tbody tr th:only-of-type {\n",
       "        vertical-align: middle;\n",
       "    }\n",
       "\n",
       "    .dataframe tbody tr th {\n",
       "        vertical-align: top;\n",
       "    }\n",
       "\n",
       "    .dataframe thead th {\n",
       "        text-align: right;\n",
       "    }\n",
       "</style>\n",
       "<table border=\"1\" class=\"dataframe\">\n",
       "  <thead>\n",
       "    <tr style=\"text-align: right;\">\n",
       "      <th></th>\n",
       "      <th>transactionId</th>\n",
       "      <th>visitorId</th>\n",
       "      <th>date</th>\n",
       "      <th>revenue</th>\n",
       "      <th>group</th>\n",
       "    </tr>\n",
       "  </thead>\n",
       "  <tbody>\n",
       "    <tr>\n",
       "      <td>0</td>\n",
       "      <td>3667963787</td>\n",
       "      <td>3312258926</td>\n",
       "      <td>2019-08-15</td>\n",
       "      <td>1650</td>\n",
       "      <td>B</td>\n",
       "    </tr>\n",
       "    <tr>\n",
       "      <td>1</td>\n",
       "      <td>2804400009</td>\n",
       "      <td>3642806036</td>\n",
       "      <td>2019-08-15</td>\n",
       "      <td>730</td>\n",
       "      <td>B</td>\n",
       "    </tr>\n",
       "    <tr>\n",
       "      <td>2</td>\n",
       "      <td>2961555356</td>\n",
       "      <td>4069496402</td>\n",
       "      <td>2019-08-15</td>\n",
       "      <td>400</td>\n",
       "      <td>A</td>\n",
       "    </tr>\n",
       "    <tr>\n",
       "      <td>3</td>\n",
       "      <td>3797467345</td>\n",
       "      <td>1196621759</td>\n",
       "      <td>2019-08-15</td>\n",
       "      <td>9759</td>\n",
       "      <td>B</td>\n",
       "    </tr>\n",
       "    <tr>\n",
       "      <td>4</td>\n",
       "      <td>2282983706</td>\n",
       "      <td>2322279887</td>\n",
       "      <td>2019-08-15</td>\n",
       "      <td>2308</td>\n",
       "      <td>B</td>\n",
       "    </tr>\n",
       "  </tbody>\n",
       "</table>\n",
       "</div>"
      ],
      "text/plain": [
       "   transactionId   visitorId        date  revenue group\n",
       "0     3667963787  3312258926  2019-08-15     1650     B\n",
       "1     2804400009  3642806036  2019-08-15      730     B\n",
       "2     2961555356  4069496402  2019-08-15      400     A\n",
       "3     3797467345  1196621759  2019-08-15     9759     B\n",
       "4     2282983706  2322279887  2019-08-15     2308     B"
      ]
     },
     "execution_count": 12,
     "metadata": {},
     "output_type": "execute_result"
    }
   ],
   "source": [
    "orders.head()"
   ]
  },
  {
   "cell_type": "code",
   "execution_count": 13,
   "metadata": {},
   "outputs": [
    {
     "data": {
      "text/html": [
       "<div>\n",
       "<style scoped>\n",
       "    .dataframe tbody tr th:only-of-type {\n",
       "        vertical-align: middle;\n",
       "    }\n",
       "\n",
       "    .dataframe tbody tr th {\n",
       "        vertical-align: top;\n",
       "    }\n",
       "\n",
       "    .dataframe thead th {\n",
       "        text-align: right;\n",
       "    }\n",
       "</style>\n",
       "<table border=\"1\" class=\"dataframe\">\n",
       "  <thead>\n",
       "    <tr style=\"text-align: right;\">\n",
       "      <th></th>\n",
       "      <th>date</th>\n",
       "      <th>group</th>\n",
       "      <th>visitors</th>\n",
       "    </tr>\n",
       "  </thead>\n",
       "  <tbody>\n",
       "    <tr>\n",
       "      <td>0</td>\n",
       "      <td>2019-08-01</td>\n",
       "      <td>A</td>\n",
       "      <td>719</td>\n",
       "    </tr>\n",
       "    <tr>\n",
       "      <td>1</td>\n",
       "      <td>2019-08-02</td>\n",
       "      <td>A</td>\n",
       "      <td>619</td>\n",
       "    </tr>\n",
       "    <tr>\n",
       "      <td>2</td>\n",
       "      <td>2019-08-03</td>\n",
       "      <td>A</td>\n",
       "      <td>507</td>\n",
       "    </tr>\n",
       "    <tr>\n",
       "      <td>3</td>\n",
       "      <td>2019-08-04</td>\n",
       "      <td>A</td>\n",
       "      <td>717</td>\n",
       "    </tr>\n",
       "    <tr>\n",
       "      <td>4</td>\n",
       "      <td>2019-08-05</td>\n",
       "      <td>A</td>\n",
       "      <td>756</td>\n",
       "    </tr>\n",
       "  </tbody>\n",
       "</table>\n",
       "</div>"
      ],
      "text/plain": [
       "         date group  visitors\n",
       "0  2019-08-01     A       719\n",
       "1  2019-08-02     A       619\n",
       "2  2019-08-03     A       507\n",
       "3  2019-08-04     A       717\n",
       "4  2019-08-05     A       756"
      ]
     },
     "execution_count": 13,
     "metadata": {},
     "output_type": "execute_result"
    }
   ],
   "source": [
    "visitors.head()"
   ]
  },
  {
   "cell_type": "markdown",
   "metadata": {},
   "source": [
    "Проверю типы данных в столбцах:"
   ]
  },
  {
   "cell_type": "code",
   "execution_count": 14,
   "metadata": {},
   "outputs": [
    {
     "data": {
      "text/plain": [
       "transactionId     int64\n",
       "visitorId         int64\n",
       "date             object\n",
       "revenue           int64\n",
       "group            object\n",
       "dtype: object"
      ]
     },
     "execution_count": 14,
     "metadata": {},
     "output_type": "execute_result"
    }
   ],
   "source": [
    "orders.dtypes"
   ]
  },
  {
   "cell_type": "code",
   "execution_count": 15,
   "metadata": {},
   "outputs": [
    {
     "data": {
      "text/plain": [
       "date        object\n",
       "group       object\n",
       "visitors     int64\n",
       "dtype: object"
      ]
     },
     "execution_count": 15,
     "metadata": {},
     "output_type": "execute_result"
    }
   ],
   "source": [
    "visitors.dtypes"
   ]
  },
  {
   "cell_type": "markdown",
   "metadata": {},
   "source": [
    "Изменю в обеих таблицах тип данных в столбце **date** на **datetime**:"
   ]
  },
  {
   "cell_type": "code",
   "execution_count": 16,
   "metadata": {},
   "outputs": [],
   "source": [
    "orders['date'] = orders['date'].astype('datetime64[D]')\n",
    "visitors['date'] = visitors['date'].astype('datetime64[D]')"
   ]
  },
  {
   "cell_type": "markdown",
   "metadata": {},
   "source": [
    "Проверю изменения:"
   ]
  },
  {
   "cell_type": "code",
   "execution_count": 17,
   "metadata": {},
   "outputs": [
    {
     "name": "stdout",
     "output_type": "stream",
     "text": [
      "datetime64[ns] datetime64[ns]\n"
     ]
    }
   ],
   "source": [
    "print(orders['date'].dtype, visitors['date'].dtype)"
   ]
  },
  {
   "cell_type": "markdown",
   "metadata": {},
   "source": [
    "Посмотрю сколько имеется полезной информации в таблицах. В таблице с заказами есть данные о стольких транзакциях:"
   ]
  },
  {
   "cell_type": "code",
   "execution_count": 18,
   "metadata": {},
   "outputs": [
    {
     "data": {
      "text/plain": [
       "1197"
      ]
     },
     "execution_count": 18,
     "metadata": {},
     "output_type": "execute_result"
    }
   ],
   "source": [
    "orders_num = orders.shape[0]\n",
    "orders_num"
   ]
  },
  {
   "cell_type": "markdown",
   "metadata": {},
   "source": [
    "В таблице с посетителями есть данные о стольких посещениях(анонимных):"
   ]
  },
  {
   "cell_type": "code",
   "execution_count": 19,
   "metadata": {},
   "outputs": [
    {
     "data": {
      "text/plain": [
       "37652"
      ]
     },
     "execution_count": 19,
     "metadata": {},
     "output_type": "execute_result"
    }
   ],
   "source": [
    "visitors_sum = visitors['visitors'].sum()\n",
    "visitors_sum"
   ]
  },
  {
   "cell_type": "markdown",
   "metadata": {},
   "source": [
    "Покажу временной период, за который имеются данные:"
   ]
  },
  {
   "cell_type": "code",
   "execution_count": 20,
   "metadata": {},
   "outputs": [
    {
     "name": "stdout",
     "output_type": "stream",
     "text": [
      "Начальная дата таблицы с заказами: 2019-08-01 00:00:00\n",
      "Начальная дата таблицы с посетителями: 2019-08-01 00:00:00\n",
      "Конечная дата таблицы с заказами: 2019-08-31 00:00:00\n",
      "Конечная дата таблицы с посетителями: 2019-08-31 00:00:00\n"
     ]
    }
   ],
   "source": [
    "print('''Начальная дата таблицы с заказами: {}\n",
    "Начальная дата таблицы с посетителями: {}\n",
    "Конечная дата таблицы с заказами: {}\n",
    "Конечная дата таблицы с посетителями: {}'''\n",
    ".format(orders['date'].min(), visitors['date'].min(), orders['date'].max(), visitors['date'].max()))"
   ]
  },
  {
   "cell_type": "markdown",
   "metadata": {},
   "source": [
    "Проверю таблицы на пропуски:"
   ]
  },
  {
   "cell_type": "code",
   "execution_count": 21,
   "metadata": {},
   "outputs": [
    {
     "name": "stdout",
     "output_type": "stream",
     "text": [
      "Всего пропусков в таблице orders: 0\n",
      "Всего пропусков в таблице visitors: 0\n"
     ]
    }
   ],
   "source": [
    "print('Всего пропусков в таблице {0}: {2}\\nВсего пропусков в таблице {1}: {3}'\n",
    "      .format('orders', 'visitors', orders.isna().sum().sum(), visitors.isna().sum().sum()))"
   ]
  },
  {
   "cell_type": "markdown",
   "metadata": {},
   "source": [
    "Проверю таблицы на дубликаты:"
   ]
  },
  {
   "cell_type": "code",
   "execution_count": 22,
   "metadata": {},
   "outputs": [
    {
     "name": "stdout",
     "output_type": "stream",
     "text": [
      "Всего дублирующих строк в таблице orders: 0\n",
      "Всего дублирующих строк в таблице visitors: 0\n"
     ]
    }
   ],
   "source": [
    "print('Всего дублирующих строк в таблице {0}: {2}\\nВсего дублирующих строк в таблице {1}: {3}'\n",
    "      .format('orders', 'visitors', orders.duplicated().sum(), visitors.duplicated().sum()))"
   ]
  },
  {
   "cell_type": "markdown",
   "metadata": {},
   "source": [
    "Проверю, есть ли покупатели, попавшие в обе группы."
   ]
  },
  {
   "cell_type": "code",
   "execution_count": 23,
   "metadata": {},
   "outputs": [
    {
     "name": "stdout",
     "output_type": "stream",
     "text": [
      "Покупателей, попавших в обе группы: 58\n"
     ]
    }
   ],
   "source": [
    "buyers_A = pd.DataFrame(data = orders.query('group == \"A\"')['visitorId'].unique())\n",
    "buyers_B = pd.DataFrame(data = orders.query('group == \"B\"')['visitorId'].unique())\n",
    "cross_buyers = buyers_A.merge(buyers_B)\n",
    "print('Покупателей, попавших в обе группы: {}'.format(cross_buyers.shape[0]))"
   ]
  },
  {
   "cell_type": "markdown",
   "metadata": {},
   "source": [
    "Записи о покупках таких клиентов могут исказить результаты последующих расчетов. Поэтому удалю их из таблицы с заказами:"
   ]
  },
  {
   "cell_type": "code",
   "execution_count": 24,
   "metadata": {},
   "outputs": [],
   "source": [
    "cross_buyers.columns = ['visitorId']\n",
    "orders = orders[np.logical_not(orders['visitorId'].isin(cross_buyers['visitorId']))]"
   ]
  },
  {
   "cell_type": "markdown",
   "metadata": {},
   "source": [
    "Число записей о транзакциях уменьшилось на столько процентов:"
   ]
  },
  {
   "cell_type": "code",
   "execution_count": 25,
   "metadata": {},
   "outputs": [
    {
     "name": "stdout",
     "output_type": "stream",
     "text": [
      "15.0 %\n"
     ]
    }
   ],
   "source": [
    "orders_cut_part = round(abs(orders.shape[0] / orders_num - 1), 2)\n",
    "print(orders_cut_part * 100, '%')"
   ]
  },
  {
   "cell_type": "markdown",
   "metadata": {},
   "source": [
    "Теперь число записей о покупках такое:"
   ]
  },
  {
   "cell_type": "code",
   "execution_count": 26,
   "metadata": {},
   "outputs": [
    {
     "data": {
      "text/plain": [
       "1016"
      ]
     },
     "execution_count": 26,
     "metadata": {},
     "output_type": "execute_result"
    }
   ],
   "source": [
    "orders.shape[0]"
   ]
  },
  {
   "cell_type": "markdown",
   "metadata": {},
   "source": [
    "К сожалению в таблице с посетителями нет данных о пользовательском идентификаторе и аккуратно удалить записи об этих пользователях не получится. Поэтому умножу столбец с визитами на такой коэффициент: **(1 - конверсия * orders_cut_part)**.  \n",
    "Конверсию на данном этапе посчитаю как отношение числа всех заказов к числу всех визитов."
   ]
  },
  {
   "cell_type": "code",
   "execution_count": 27,
   "metadata": {},
   "outputs": [],
   "source": [
    "visitors['visitors'] = (\n",
    "    visitors['visitors']\n",
    "    * (1 - (orders_num / visitors_sum ) * orders_cut_part)\n",
    ").astype('int')"
   ]
  },
  {
   "cell_type": "markdown",
   "metadata": {},
   "source": [
    "Число визитов уменьшилось на столько процентов:"
   ]
  },
  {
   "cell_type": "code",
   "execution_count": 28,
   "metadata": {},
   "outputs": [
    {
     "data": {
      "text/plain": [
       "0.6"
      ]
     },
     "execution_count": 28,
     "metadata": {},
     "output_type": "execute_result"
    }
   ],
   "source": [
    "round(abs(visitors['visitors'].sum() / visitors_sum - 1), 3) * 100"
   ]
  },
  {
   "cell_type": "markdown",
   "metadata": {},
   "source": [
    "Новое значение числа посещений:"
   ]
  },
  {
   "cell_type": "code",
   "execution_count": 29,
   "metadata": {},
   "outputs": [
    {
     "data": {
      "text/plain": [
       "37443"
      ]
     },
     "execution_count": 29,
     "metadata": {},
     "output_type": "execute_result"
    }
   ],
   "source": [
    "visitors['visitors'].sum()"
   ]
  },
  {
   "cell_type": "markdown",
   "metadata": {},
   "source": [
    "**Вывод:**\n",
    " - В таблицах имеются данные с 2019-08-01 по 2019-08-31 включительно\n",
    " - Пропусков и дубликатов в таблицах нет\n",
    " - В таблице с заказами 58 покупателей оказались в обеих группах. Записи об этих транзакциях я удалил. Размер таблицы с заказами уменьшился на 15 процентов и составил 1016 строк\n",
    " - Количество известных посещений: 37443. Это значение также является \"оптимизированным\", т.к. информацию о покупателях, попавших в обе группы, необходимо было удалить и из таблицы посещений. Получившееся число визитов меньше на 0.6 процента первоначального. "
   ]
  },
  {
   "cell_type": "markdown",
   "metadata": {},
   "source": [
    "<a name=\"2.2.\">-></a> \n",
    "<a href=\"#0\">К содержанию</a>"
   ]
  },
  {
   "cell_type": "markdown",
   "metadata": {},
   "source": [
    "## 2.2. Предварительное агрегирование данных"
   ]
  },
  {
   "cell_type": "markdown",
   "metadata": {},
   "source": [
    "Объединю таблицы с заказами и визитами в одну - с кумулятивными данными, агрегированными по дате. Она понадобится до конца проекта.   \n",
    "Сначала создам таблицу со всеми имющимися сочетаниями \"дата заказа - группа\":"
   ]
  },
  {
   "cell_type": "code",
   "execution_count": 30,
   "metadata": {},
   "outputs": [
    {
     "data": {
      "text/html": [
       "<div>\n",
       "<style scoped>\n",
       "    .dataframe tbody tr th:only-of-type {\n",
       "        vertical-align: middle;\n",
       "    }\n",
       "\n",
       "    .dataframe tbody tr th {\n",
       "        vertical-align: top;\n",
       "    }\n",
       "\n",
       "    .dataframe thead th {\n",
       "        text-align: right;\n",
       "    }\n",
       "</style>\n",
       "<table border=\"1\" class=\"dataframe\">\n",
       "  <thead>\n",
       "    <tr style=\"text-align: right;\">\n",
       "      <th></th>\n",
       "      <th>date</th>\n",
       "      <th>group</th>\n",
       "    </tr>\n",
       "  </thead>\n",
       "  <tbody>\n",
       "    <tr>\n",
       "      <td>0</td>\n",
       "      <td>2019-08-15</td>\n",
       "      <td>B</td>\n",
       "    </tr>\n",
       "    <tr>\n",
       "      <td>7</td>\n",
       "      <td>2019-08-15</td>\n",
       "      <td>A</td>\n",
       "    </tr>\n",
       "    <tr>\n",
       "      <td>45</td>\n",
       "      <td>2019-08-16</td>\n",
       "      <td>A</td>\n",
       "    </tr>\n",
       "    <tr>\n",
       "      <td>47</td>\n",
       "      <td>2019-08-16</td>\n",
       "      <td>B</td>\n",
       "    </tr>\n",
       "    <tr>\n",
       "      <td>55</td>\n",
       "      <td>2019-08-01</td>\n",
       "      <td>A</td>\n",
       "    </tr>\n",
       "  </tbody>\n",
       "</table>\n",
       "</div>"
      ],
      "text/plain": [
       "         date group\n",
       "0  2019-08-15     B\n",
       "7  2019-08-15     A\n",
       "45 2019-08-16     A\n",
       "47 2019-08-16     B\n",
       "55 2019-08-01     A"
      ]
     },
     "execution_count": 30,
     "metadata": {},
     "output_type": "execute_result"
    }
   ],
   "source": [
    "dates_groups = orders[['date','group']].drop_duplicates()\n",
    "dates_groups.head()"
   ]
  },
  {
   "cell_type": "markdown",
   "metadata": {},
   "source": [
    "Создам сгруппированную по дате и группе таблицу заказов с кумулятивными данными:"
   ]
  },
  {
   "cell_type": "code",
   "execution_count": 31,
   "metadata": {},
   "outputs": [],
   "source": [
    "orders_aggregated = (\n",
    "    dates_groups\n",
    "    .apply(lambda x: orders[np.logical_and(orders['date']<=x['date'], orders['group']==x['group'])]\n",
    "          .agg({'date':'max', 'group':'max', 'transactionId':'nunique', 'visitorId':'nunique', 'revenue':'sum'}), axis=1)\n",
    "    .sort_values(by=['date', 'group'])\n",
    "    .reset_index(drop=True)\n",
    ")"
   ]
  },
  {
   "cell_type": "markdown",
   "metadata": {},
   "source": [
    "Создам сгруппированную по дате и группе таблицу визитов с кумулятивными данными:"
   ]
  },
  {
   "cell_type": "code",
   "execution_count": 32,
   "metadata": {},
   "outputs": [],
   "source": [
    "visitors_aggregated = (\n",
    "    dates_groups\n",
    "    .apply(lambda x: visitors[np.logical_and(visitors['date']<=x['date'], visitors['group']==x['group'])]\n",
    "          .agg({'date':'max', 'group':'max', 'visitors':'sum'}), axis=1)\n",
    "    .sort_values(by=['date', 'group'])\n",
    "    .reset_index(drop=True)\n",
    ")"
   ]
  },
  {
   "cell_type": "markdown",
   "metadata": {},
   "source": [
    "Объединю эти две таблицы:"
   ]
  },
  {
   "cell_type": "code",
   "execution_count": 33,
   "metadata": {},
   "outputs": [],
   "source": [
    "data_aggregated = pd.merge(orders_aggregated, visitors_aggregated, on=['date','group'])\n",
    "data_aggregated.columns = ['date','group','transactions','buyers','revenue','visitors']"
   ]
  },
  {
   "cell_type": "markdown",
   "metadata": {},
   "source": [
    "Создам столбец со средними чеками:"
   ]
  },
  {
   "cell_type": "code",
   "execution_count": 34,
   "metadata": {},
   "outputs": [],
   "source": [
    "data_aggregated['mean_check'] = round(data_aggregated['revenue'] / data_aggregated['transactions'], 3)\n",
    "data_aggregated_A = data_aggregated.query('group == \"A\"')\n",
    "data_aggregated_B = data_aggregated.query('group == \"B\"')"
   ]
  },
  {
   "cell_type": "markdown",
   "metadata": {},
   "source": [
    "Добавлю столбец с конверсиями визитов в покупки:"
   ]
  },
  {
   "cell_type": "code",
   "execution_count": 35,
   "metadata": {},
   "outputs": [
    {
     "data": {
      "text/html": [
       "<div>\n",
       "<style scoped>\n",
       "    .dataframe tbody tr th:only-of-type {\n",
       "        vertical-align: middle;\n",
       "    }\n",
       "\n",
       "    .dataframe tbody tr th {\n",
       "        vertical-align: top;\n",
       "    }\n",
       "\n",
       "    .dataframe thead th {\n",
       "        text-align: right;\n",
       "    }\n",
       "</style>\n",
       "<table border=\"1\" class=\"dataframe\">\n",
       "  <thead>\n",
       "    <tr style=\"text-align: right;\">\n",
       "      <th></th>\n",
       "      <th>date</th>\n",
       "      <th>group</th>\n",
       "      <th>transactions</th>\n",
       "      <th>buyers</th>\n",
       "      <th>revenue</th>\n",
       "      <th>visitors</th>\n",
       "      <th>mean_check</th>\n",
       "      <th>conversion</th>\n",
       "    </tr>\n",
       "  </thead>\n",
       "  <tbody>\n",
       "    <tr>\n",
       "      <td>0</td>\n",
       "      <td>2019-08-01</td>\n",
       "      <td>A</td>\n",
       "      <td>23</td>\n",
       "      <td>19</td>\n",
       "      <td>142779</td>\n",
       "      <td>715</td>\n",
       "      <td>6207.783</td>\n",
       "      <td>0.03217</td>\n",
       "    </tr>\n",
       "    <tr>\n",
       "      <td>1</td>\n",
       "      <td>2019-08-01</td>\n",
       "      <td>B</td>\n",
       "      <td>17</td>\n",
       "      <td>17</td>\n",
       "      <td>59758</td>\n",
       "      <td>709</td>\n",
       "      <td>3515.176</td>\n",
       "      <td>0.02398</td>\n",
       "    </tr>\n",
       "    <tr>\n",
       "      <td>2</td>\n",
       "      <td>2019-08-02</td>\n",
       "      <td>A</td>\n",
       "      <td>42</td>\n",
       "      <td>36</td>\n",
       "      <td>234381</td>\n",
       "      <td>1331</td>\n",
       "      <td>5580.500</td>\n",
       "      <td>0.03156</td>\n",
       "    </tr>\n",
       "    <tr>\n",
       "      <td>3</td>\n",
       "      <td>2019-08-02</td>\n",
       "      <td>B</td>\n",
       "      <td>40</td>\n",
       "      <td>39</td>\n",
       "      <td>221801</td>\n",
       "      <td>1287</td>\n",
       "      <td>5545.025</td>\n",
       "      <td>0.03108</td>\n",
       "    </tr>\n",
       "    <tr>\n",
       "      <td>4</td>\n",
       "      <td>2019-08-03</td>\n",
       "      <td>A</td>\n",
       "      <td>66</td>\n",
       "      <td>60</td>\n",
       "      <td>346854</td>\n",
       "      <td>1835</td>\n",
       "      <td>5255.364</td>\n",
       "      <td>0.03597</td>\n",
       "    </tr>\n",
       "  </tbody>\n",
       "</table>\n",
       "</div>"
      ],
      "text/plain": [
       "        date group  transactions  buyers  revenue  visitors  mean_check  \\\n",
       "0 2019-08-01     A            23      19   142779       715    6207.783   \n",
       "1 2019-08-01     B            17      17    59758       709    3515.176   \n",
       "2 2019-08-02     A            42      36   234381      1331    5580.500   \n",
       "3 2019-08-02     B            40      39   221801      1287    5545.025   \n",
       "4 2019-08-03     A            66      60   346854      1835    5255.364   \n",
       "\n",
       "   conversion  \n",
       "0     0.03217  \n",
       "1     0.02398  \n",
       "2     0.03156  \n",
       "3     0.03108  \n",
       "4     0.03597  "
      ]
     },
     "execution_count": 35,
     "metadata": {},
     "output_type": "execute_result"
    }
   ],
   "source": [
    "data_aggregated['conversion'] = round(data_aggregated['transactions'] / data_aggregated['visitors'], 5)\n",
    "data_aggregated.head()"
   ]
  },
  {
   "cell_type": "markdown",
   "metadata": {},
   "source": [
    "Агрегированные таблицы по группам:"
   ]
  },
  {
   "cell_type": "code",
   "execution_count": 36,
   "metadata": {},
   "outputs": [],
   "source": [
    "data_aggregated_A = data_aggregated.query('group == \"A\"')\n",
    "data_aggregated_B = data_aggregated.query('group == \"B\"')"
   ]
  },
  {
   "cell_type": "markdown",
   "metadata": {},
   "source": [
    "<a name=\"2.3.\">-></a> \n",
    "<a href=\"#0\">К содержанию</a>"
   ]
  },
  {
   "cell_type": "markdown",
   "metadata": {},
   "source": [
    "## 2.3. График кумулятивной выручки по группам"
   ]
  },
  {
   "cell_type": "markdown",
   "metadata": {},
   "source": [
    "Графики кумулятивных выручек по группам:"
   ]
  },
  {
   "cell_type": "code",
   "execution_count": 37,
   "metadata": {
    "scrolled": false
   },
   "outputs": [
    {
     "data": {
      "image/png": "[encoded data removed]",
      "text/plain": [
       "<Figure size 1080x432 with 1 Axes>"
      ]
     },
     "metadata": {
      "needs_background": "light"
     },
     "output_type": "display_data"
    }
   ],
   "source": [
    "plt.figure(figsize=[15,6])\n",
    "plt.plot(data_aggregated_A['date'], data_aggregated_A['revenue'], label='A')\n",
    "plt.plot(data_aggregated_B['date'], data_aggregated_B['revenue'], label='B')\n",
    "plt.title('Кумулятивная выручка по группам')\n",
    "plt.xlabel('Дата')\n",
    "plt.ylabel('Выручка, усл.ед.')\n",
    "plt.legend()\n",
    "plt.show()"
   ]
  },
  {
   "cell_type": "markdown",
   "metadata": {},
   "source": [
    "**Выводы и предположения:**\n",
    " - Примерно до 18-19 августа(и после этих дат) изменение кумулятивной выручки группы **В** коррелирует с таковой для группы **А**.  \n",
    " - Общая сумма выручки группы **В** к этой дате несколько превышает выручку группы **А**. \n",
    " - Ориентировочно 19 августа у группы **В** наблюдается резкий скачек. Он может быть объяснен крупными и/или участившимися заказами в этот день."
   ]
  },
  {
   "cell_type": "markdown",
   "metadata": {},
   "source": [
    "<a name=\"2.4.\">-></a> \n",
    "<a href=\"#0\">К содержанию</a>"
   ]
  },
  {
   "cell_type": "markdown",
   "metadata": {},
   "source": [
    "## 2.4. График кумулятивного среднего чека по группам"
   ]
  },
  {
   "cell_type": "markdown",
   "metadata": {},
   "source": [
    "Графики кумулятивных средних чеков по группам:"
   ]
  },
  {
   "cell_type": "code",
   "execution_count": 38,
   "metadata": {},
   "outputs": [
    {
     "data": {
      "image/png": "[encoded data removed]",
      "text/plain": [
       "<Figure size 1080x432 with 1 Axes>"
      ]
     },
     "metadata": {
      "needs_background": "light"
     },
     "output_type": "display_data"
    }
   ],
   "source": [
    "plt.figure(figsize=[15,6])\n",
    "plt.plot(data_aggregated_A['date'], data_aggregated_A['mean_check'], label='A')\n",
    "plt.plot(data_aggregated_B['date'], data_aggregated_B['mean_check'], label='B')\n",
    "plt.title('Кумулятивный средний чек по группам')\n",
    "plt.xlabel('Дата')\n",
    "plt.ylabel('Средний чек, усл.ед.')\n",
    "plt.legend()\n",
    "plt.show()"
   ]
  },
  {
   "cell_type": "markdown",
   "metadata": {},
   "source": [
    "**Выводы и предположения:**\n",
    " - С учетом предыдущего графика можно предположить, что на всем интервале времени в группе **B** совершается меньше покупок - за исключением небольшой области возле 13 августа\n",
    " - На обоих графиках около 19 августа присутствуют похожие скачки. Вероятнее всего это объясняется аномальной стоимостью покупок в этот день, а не их количеством  \n",
    " - После 19 августа показатель группы **В** падает, хотя выручка почти линейно растет. Это может быть связано с увеличением числа покупок, но с уменьшением их стоимостей. "
   ]
  },
  {
   "cell_type": "markdown",
   "metadata": {},
   "source": [
    "<a name=\"2.5.\">-></a> \n",
    "<a href=\"#0\">К содержанию</a>"
   ]
  },
  {
   "cell_type": "markdown",
   "metadata": {},
   "source": [
    "## 2.5. График относительного изменения кумулятивного среднего чека группы B к группе A"
   ]
  },
  {
   "cell_type": "markdown",
   "metadata": {},
   "source": [
    "Объединю таблицы **data_aggregated_A** и **data_aggregated_B** по дате:"
   ]
  },
  {
   "cell_type": "code",
   "execution_count": 39,
   "metadata": {},
   "outputs": [
    {
     "data": {
      "text/html": [
       "<div>\n",
       "<style scoped>\n",
       "    .dataframe tbody tr th:only-of-type {\n",
       "        vertical-align: middle;\n",
       "    }\n",
       "\n",
       "    .dataframe tbody tr th {\n",
       "        vertical-align: top;\n",
       "    }\n",
       "\n",
       "    .dataframe thead th {\n",
       "        text-align: right;\n",
       "    }\n",
       "</style>\n",
       "<table border=\"1\" class=\"dataframe\">\n",
       "  <thead>\n",
       "    <tr style=\"text-align: right;\">\n",
       "      <th></th>\n",
       "      <th>date</th>\n",
       "      <th>group_A</th>\n",
       "      <th>transactions_A</th>\n",
       "      <th>buyers_A</th>\n",
       "      <th>revenue_A</th>\n",
       "      <th>visitors_A</th>\n",
       "      <th>mean_check_A</th>\n",
       "      <th>conversion_A</th>\n",
       "      <th>group_B</th>\n",
       "      <th>transactions_B</th>\n",
       "      <th>buyers_B</th>\n",
       "      <th>revenue_B</th>\n",
       "      <th>visitors_B</th>\n",
       "      <th>mean_check_B</th>\n",
       "      <th>conversion_B</th>\n",
       "    </tr>\n",
       "  </thead>\n",
       "  <tbody>\n",
       "    <tr>\n",
       "      <td>0</td>\n",
       "      <td>2019-08-01</td>\n",
       "      <td>A</td>\n",
       "      <td>23</td>\n",
       "      <td>19</td>\n",
       "      <td>142779</td>\n",
       "      <td>715</td>\n",
       "      <td>6207.783</td>\n",
       "      <td>0.03217</td>\n",
       "      <td>B</td>\n",
       "      <td>17</td>\n",
       "      <td>17</td>\n",
       "      <td>59758</td>\n",
       "      <td>709</td>\n",
       "      <td>3515.176</td>\n",
       "      <td>0.02398</td>\n",
       "    </tr>\n",
       "    <tr>\n",
       "      <td>1</td>\n",
       "      <td>2019-08-02</td>\n",
       "      <td>A</td>\n",
       "      <td>42</td>\n",
       "      <td>36</td>\n",
       "      <td>234381</td>\n",
       "      <td>1331</td>\n",
       "      <td>5580.500</td>\n",
       "      <td>0.03156</td>\n",
       "      <td>B</td>\n",
       "      <td>40</td>\n",
       "      <td>39</td>\n",
       "      <td>221801</td>\n",
       "      <td>1287</td>\n",
       "      <td>5545.025</td>\n",
       "      <td>0.03108</td>\n",
       "    </tr>\n",
       "    <tr>\n",
       "      <td>2</td>\n",
       "      <td>2019-08-03</td>\n",
       "      <td>A</td>\n",
       "      <td>66</td>\n",
       "      <td>60</td>\n",
       "      <td>346854</td>\n",
       "      <td>1835</td>\n",
       "      <td>5255.364</td>\n",
       "      <td>0.03597</td>\n",
       "      <td>B</td>\n",
       "      <td>54</td>\n",
       "      <td>53</td>\n",
       "      <td>288850</td>\n",
       "      <td>1793</td>\n",
       "      <td>5349.074</td>\n",
       "      <td>0.03012</td>\n",
       "    </tr>\n",
       "  </tbody>\n",
       "</table>\n",
       "</div>"
      ],
      "text/plain": [
       "        date group_A  transactions_A  buyers_A  revenue_A  visitors_A  \\\n",
       "0 2019-08-01       A              23        19     142779         715   \n",
       "1 2019-08-02       A              42        36     234381        1331   \n",
       "2 2019-08-03       A              66        60     346854        1835   \n",
       "\n",
       "   mean_check_A  conversion_A group_B  transactions_B  buyers_B  revenue_B  \\\n",
       "0      6207.783       0.03217       B              17        17      59758   \n",
       "1      5580.500       0.03156       B              40        39     221801   \n",
       "2      5255.364       0.03597       B              54        53     288850   \n",
       "\n",
       "   visitors_B  mean_check_B  conversion_B  \n",
       "0         709      3515.176       0.02398  \n",
       "1        1287      5545.025       0.03108  \n",
       "2        1793      5349.074       0.03012  "
      ]
     },
     "execution_count": 39,
     "metadata": {},
     "output_type": "execute_result"
    }
   ],
   "source": [
    "merged_data_aggregated_AB = pd.merge(\n",
    "    data_aggregated_A, data_aggregated_B,\n",
    "    how='left', on='date', suffixes=['_A','_B'])\n",
    "merged_data_aggregated_AB.head(3)"
   ]
  },
  {
   "cell_type": "markdown",
   "metadata": {},
   "source": [
    "График относительного изменения кумулятивного среднего чека группы **B** к группе **A**:"
   ]
  },
  {
   "cell_type": "code",
   "execution_count": 40,
   "metadata": {},
   "outputs": [
    {
     "data": {
      "image/png": "[encoded data removed]",
      "text/plain": [
       "<Figure size 1080x432 with 1 Axes>"
      ]
     },
     "metadata": {
      "needs_background": "light"
     },
     "output_type": "display_data"
    }
   ],
   "source": [
    "plt.figure(figsize=[15,6])\n",
    "plt.plot(merged_data_aggregated_AB['date'],\n",
    "    merged_data_aggregated_AB['mean_check_B'] / merged_data_aggregated_AB['mean_check_A'] - 1)\n",
    "plt.ylabel('Относительный прирост')\n",
    "plt.xlabel('Дата')\n",
    "plt.title('Относительное изменение кумулятивного среднего чека группы B к группе A')\n",
    "plt.axhline(y=0, color='grey', linestyle='--')\n",
    "plt.show()"
   ]
  },
  {
   "cell_type": "markdown",
   "metadata": {},
   "source": [
    "**Выводы и предположения:**\n",
    " - Почти на всем интервале времени средний чек группы **В** превышает таковой у группы **А**\n",
    " - Примерно до середины августа на данные,возможно, сильно влиял эффект подглядывания\n",
    " - Примерно 19 августа аномалия в группе **В** вывела ее сильно вперед\n",
    " - Последующие 2 недели группа **В** постепенно сдает позиции\n",
    " - Предположительно после 29 августа полностью \"уходит\" эффект подглядывания и можно оценить реальную разницу между группами. Желательны дальнейшие наблюдения."
   ]
  },
  {
   "cell_type": "markdown",
   "metadata": {},
   "source": [
    "<a name=\"2.6.\">-></a> \n",
    "<a href=\"#0\">К содержанию</a>"
   ]
  },
  {
   "cell_type": "markdown",
   "metadata": {},
   "source": [
    "## 2.6. График кумулятивной конверсии по группам"
   ]
  },
  {
   "cell_type": "code",
   "execution_count": 41,
   "metadata": {},
   "outputs": [
    {
     "data": {
      "image/png": "[encoded data removed]",
      "text/plain": [
       "<Figure size 1080x432 with 1 Axes>"
      ]
     },
     "metadata": {
      "needs_background": "light"
     },
     "output_type": "display_data"
    }
   ],
   "source": [
    "plt.figure(figsize=[15,6])\n",
    "plt.plot(data_aggregated_A['date'], 100*data_aggregated_A['conversion'], label='A')\n",
    "plt.plot(data_aggregated_B['date'], 100*data_aggregated_B['conversion'], label='B')\n",
    "plt.title('Изменение кумулятивной конверсии по группам')\n",
    "plt.xlabel('Дата')\n",
    "plt.ylabel('Коэффициент кумулятивной конверсии, %')\n",
    "plt.legend()\n",
    "plt.show()"
   ]
  },
  {
   "cell_type": "markdown",
   "metadata": {},
   "source": [
    "**Выводы и предположения:**\n",
    " - Примерно до 6-10 августа наблюдаются резкие скачки, вероятно, обусловленные эффектом подглядывания\n",
    " - Затем характер поведения графиков практически не меняется, что может свидетельствовать о равенстве конверсии в группах."
   ]
  },
  {
   "cell_type": "markdown",
   "metadata": {},
   "source": [
    "<a name=\"2.7.\">-></a> \n",
    "<a href=\"#0\">К содержанию</a>"
   ]
  },
  {
   "cell_type": "markdown",
   "metadata": {},
   "source": [
    "## 2.7. График относительного изменения кумулятивной конверсии группы B к группе A"
   ]
  },
  {
   "cell_type": "markdown",
   "metadata": {},
   "source": [
    "Воспользуюсь созданной ранее таблицей **merged_data_aggregated_AB**"
   ]
  },
  {
   "cell_type": "code",
   "execution_count": 42,
   "metadata": {},
   "outputs": [
    {
     "data": {
      "image/png": "[encoded data removed]",
      "text/plain": [
       "<Figure size 1080x432 with 1 Axes>"
      ]
     },
     "metadata": {
      "needs_background": "light"
     },
     "output_type": "display_data"
    }
   ],
   "source": [
    "plt.figure(figsize=[15,6])\n",
    "plt.plot(merged_data_aggregated_AB['date'],\n",
    "    merged_data_aggregated_AB['conversion_B'] / merged_data_aggregated_AB['conversion_A'] - 1)\n",
    "plt.ylabel('Относительный прирост')\n",
    "plt.xlabel('Дата')\n",
    "plt.title('Относительное изменение кумулятивной конверсии группы B к группе A')\n",
    "plt.axhline(y=0, color='grey', linestyle='--')\n",
    "plt.show()"
   ]
  },
  {
   "cell_type": "markdown",
   "metadata": {},
   "source": [
    "**Выводы и предположения:**\n",
    " - В последние 14 дней наблюдений график стабилизируется и можно уже предположить 10-15% рост конверсии в группе **В** относительно группы **А**. Но он может быть обусловлен эффектом подглядывания в первые недели опыта."
   ]
  },
  {
   "cell_type": "markdown",
   "metadata": {},
   "source": [
    "<a name=\"2.8.\">-></a> \n",
    "<a href=\"#0\">К содержанию</a>"
   ]
  },
  {
   "cell_type": "markdown",
   "metadata": {},
   "source": [
    "## 2.8. Точечный график количества заказов по пользователям"
   ]
  },
  {
   "cell_type": "markdown",
   "metadata": {},
   "source": [
    "Сгруппирую таблицу с заказами **orders** по покупателям и посчитаю их заказы:"
   ]
  },
  {
   "cell_type": "code",
   "execution_count": 43,
   "metadata": {},
   "outputs": [],
   "source": [
    "orders_by_users = orders.groupby('visitorId', as_index=False).agg({'transactionId':'nunique'})\n",
    "orders_by_users.columns = ['visitorId','transactions']"
   ]
  },
  {
   "cell_type": "markdown",
   "metadata": {},
   "source": [
    "Точечный график количества заказов по пользователям"
   ]
  },
  {
   "cell_type": "code",
   "execution_count": 44,
   "metadata": {},
   "outputs": [
    {
     "data": {
      "text/plain": [
       "973"
      ]
     },
     "execution_count": 44,
     "metadata": {},
     "output_type": "execute_result"
    }
   ],
   "source": [
    "len(orders_by_users)"
   ]
  },
  {
   "cell_type": "code",
   "execution_count": 45,
   "metadata": {},
   "outputs": [
    {
     "data": {
      "image/png": "[encoded data removed]",
      "text/plain": [
       "<Figure size 1080x360 with 1 Axes>"
      ]
     },
     "metadata": {
      "needs_background": "light"
     },
     "output_type": "display_data"
    }
   ],
   "source": [
    "plt.figure(figsize=[15,5])\n",
    "plt.scatter(\n",
    "    pd.Series(range(0,len(orders_by_users))),\n",
    "    orders_by_users['transactions'].sort_values(),\n",
    "    marker='|'\n",
    ")\n",
    "plt.grid()\n",
    "plt.title('Точечный график количества заказов по пользователям')\n",
    "plt.xlabel('Порядковый номер покупателя')\n",
    "plt.ylabel('Число заказов, шт.')\n",
    "plt.show()"
   ]
  },
  {
   "cell_type": "markdown",
   "metadata": {},
   "source": [
    "Топ-10 значений числа покупок:"
   ]
  },
  {
   "cell_type": "code",
   "execution_count": 46,
   "metadata": {},
   "outputs": [
    {
     "data": {
      "text/plain": [
       "55     3\n",
       "890    3\n",
       "632    3\n",
       "908    3\n",
       "138    3\n",
       "687    3\n",
       "478    3\n",
       "901    2\n",
       "94     2\n",
       "940    2\n",
       "Name: transactions, dtype: int64"
      ]
     },
     "execution_count": 46,
     "metadata": {},
     "output_type": "execute_result"
    }
   ],
   "source": [
    "orders_by_users['transactions'].sort_values(ascending=False).head(10)"
   ]
  },
  {
   "cell_type": "markdown",
   "metadata": {},
   "source": [
    "**Выводы и предположения:**\n",
    " - Подавляющее число пользователей совершили одну покупку  \n",
    " - Предварительно приму, что значимое число покупок на пользователя: три."
   ]
  },
  {
   "cell_type": "markdown",
   "metadata": {},
   "source": [
    "<a name=\"2.9.\">-></a> \n",
    "<a href=\"#0\">К содержанию</a>"
   ]
  },
  {
   "cell_type": "markdown",
   "metadata": {},
   "source": [
    "## 2.9. 95-й и 99-й перцентили количества заказов на пользователя"
   ]
  },
  {
   "cell_type": "code",
   "execution_count": 47,
   "metadata": {},
   "outputs": [
    {
     "name": "stdout",
     "output_type": "stream",
     "text": [
      "95-й перцентиль: 1 заказа \n",
      "99-й перцентиль: 2 заказа\n"
     ]
    }
   ],
   "source": [
    "user_orders_percentiles = np.percentile(orders_by_users['transactions'],[95,99]).astype('int')\n",
    "print('95-й перцентиль: {0} {2} \\n99-й перцентиль: {1} {2}'\n",
    "      .format(user_orders_percentiles[0], user_orders_percentiles[1], 'заказа'))"
   ]
  },
  {
   "cell_type": "markdown",
   "metadata": {},
   "source": [
    "В качестве границы для определения аномальных пользователей приму значение, равное 99-му перцентилю."
   ]
  },
  {
   "cell_type": "code",
   "execution_count": 48,
   "metadata": {},
   "outputs": [
    {
     "name": "stdout",
     "output_type": "stream",
     "text": [
      "Граница по числу заказов: 2\n"
     ]
    }
   ],
   "source": [
    "user_orders_border = user_orders_percentiles[1]\n",
    "print('Граница по числу заказов: {}'.format(user_orders_border))"
   ]
  },
  {
   "cell_type": "markdown",
   "metadata": {},
   "source": [
    "Т.е. записи пользователей с числом заказов более, чем **user_orders_border**, буду считать аномальными."
   ]
  },
  {
   "cell_type": "markdown",
   "metadata": {},
   "source": [
    "<a name=\"2.10.\">-></a> \n",
    "<a href=\"#0\">К содержанию</a>"
   ]
  },
  {
   "cell_type": "markdown",
   "metadata": {},
   "source": [
    "## 2.10. Точечный график стоимостей заказов"
   ]
  },
  {
   "cell_type": "code",
   "execution_count": 49,
   "metadata": {
    "scrolled": true
   },
   "outputs": [
    {
     "data": {
      "image/png": "[encoded data removed]",
      "text/plain": [
       "<Figure size 1080x360 with 1 Axes>"
      ]
     },
     "metadata": {
      "needs_background": "light"
     },
     "output_type": "display_data"
    }
   ],
   "source": [
    "plt.figure(figsize=[15,5])\n",
    "plt.scatter(pd.Series(range(0,len(orders))), orders['revenue'])\n",
    "plt.grid()\n",
    "plt.title('Точечный график стоимостей заказов')\n",
    "plt.xlabel('Порядковый номер заказа')\n",
    "plt.ylabel('Стоимость заказа, усл.ед.')\n",
    "plt.show()"
   ]
  },
  {
   "cell_type": "markdown",
   "metadata": {},
   "source": [
    "Топ-5 заказов:"
   ]
  },
  {
   "cell_type": "code",
   "execution_count": 50,
   "metadata": {},
   "outputs": [
    {
     "data": {
      "text/plain": [
       "425     1294500\n",
       "1196     202740\n",
       "1136      92550\n",
       "744       86620\n",
       "743       67990\n",
       "Name: revenue, dtype: int64"
      ]
     },
     "execution_count": 50,
     "metadata": {},
     "output_type": "execute_result"
    }
   ],
   "source": [
    "orders['revenue'].sort_values(ascending=False).head()"
   ]
  },
  {
   "cell_type": "markdown",
   "metadata": {},
   "source": [
    "**Выводы и предположения:**\n",
    " - Почти все заказы дешевле 100000  \n",
    " - Есть 2 явно аномальных заказа: на 200000 и 1200000. Заказы около 100000 тоже являются необычными."
   ]
  },
  {
   "cell_type": "markdown",
   "metadata": {},
   "source": [
    "<a name=\"2.11.\">-></a> \n",
    "<a href=\"#0\">К содержанию</a>"
   ]
  },
  {
   "cell_type": "markdown",
   "metadata": {},
   "source": [
    "## 2.11. 95-й и 99-й перцентили стоимости заказов"
   ]
  },
  {
   "cell_type": "code",
   "execution_count": 51,
   "metadata": {},
   "outputs": [
    {
     "name": "stdout",
     "output_type": "stream",
     "text": [
      "95-й перцентиль: 26785 усл.ед. \n",
      "99-й перцентиль: 53904 усл.ед.\n"
     ]
    }
   ],
   "source": [
    "revenue_percentiles = np.percentile(orders['revenue'],[95,99]).astype('int')\n",
    "print('95-й перцентиль: {0} {2} \\n99-й перцентиль: {1} {2}'\n",
    "      .format(revenue_percentiles[0], revenue_percentiles[1], 'усл.ед.'))"
   ]
  },
  {
   "cell_type": "markdown",
   "metadata": {},
   "source": [
    "В качеcтве границы для определения аномальных заказов приму вычисленное значение 99-го перцентиля. Т.е."
   ]
  },
  {
   "cell_type": "code",
   "execution_count": 52,
   "metadata": {},
   "outputs": [
    {
     "name": "stdout",
     "output_type": "stream",
     "text": [
      "Граница по стоимости заказа: 53904 усл.ед.\n"
     ]
    }
   ],
   "source": [
    "revenue_border = revenue_percentiles[1]\n",
    "print('Граница по стоимости заказа: {} усл.ед.'.format(revenue_border))"
   ]
  },
  {
   "cell_type": "markdown",
   "metadata": {},
   "source": [
    "Т.е. записи заказов со стоимостью более, чем **revenue_border**, буду считать аномальными."
   ]
  },
  {
   "cell_type": "markdown",
   "metadata": {},
   "source": [
    "<a name=\"2.12.\">-></a> \n",
    "<a href=\"#0\">К содержанию</a>"
   ]
  },
  {
   "cell_type": "markdown",
   "metadata": {},
   "source": [
    "## 2.12. Статистическая значимость различий в конверсии между группами по «сырым» данным"
   ]
  },
  {
   "cell_type": "markdown",
   "metadata": {},
   "source": [
    "Сгруппирую данные заказов по id покупателей и агрегирую число заказов и их суммы:"
   ]
  },
  {
   "cell_type": "code",
   "execution_count": 53,
   "metadata": {},
   "outputs": [
    {
     "data": {
      "text/html": [
       "<div>\n",
       "<style scoped>\n",
       "    .dataframe tbody tr th:only-of-type {\n",
       "        vertical-align: middle;\n",
       "    }\n",
       "\n",
       "    .dataframe tbody tr th {\n",
       "        vertical-align: top;\n",
       "    }\n",
       "\n",
       "    .dataframe thead th {\n",
       "        text-align: right;\n",
       "    }\n",
       "</style>\n",
       "<table border=\"1\" class=\"dataframe\">\n",
       "  <thead>\n",
       "    <tr style=\"text-align: right;\">\n",
       "      <th></th>\n",
       "      <th>visitorId</th>\n",
       "      <th>orders</th>\n",
       "      <th>revenue</th>\n",
       "    </tr>\n",
       "  </thead>\n",
       "  <tbody>\n",
       "    <tr>\n",
       "      <td>0</td>\n",
       "      <td>11685486</td>\n",
       "      <td>1</td>\n",
       "      <td>6201</td>\n",
       "    </tr>\n",
       "    <tr>\n",
       "      <td>1</td>\n",
       "      <td>54447517</td>\n",
       "      <td>1</td>\n",
       "      <td>130</td>\n",
       "    </tr>\n",
       "    <tr>\n",
       "      <td>2</td>\n",
       "      <td>66685450</td>\n",
       "      <td>1</td>\n",
       "      <td>7990</td>\n",
       "    </tr>\n",
       "    <tr>\n",
       "      <td>3</td>\n",
       "      <td>78758296</td>\n",
       "      <td>1</td>\n",
       "      <td>1044</td>\n",
       "    </tr>\n",
       "    <tr>\n",
       "      <td>4</td>\n",
       "      <td>85103373</td>\n",
       "      <td>1</td>\n",
       "      <td>1220</td>\n",
       "    </tr>\n",
       "  </tbody>\n",
       "</table>\n",
       "</div>"
      ],
      "text/plain": [
       "   visitorId  orders  revenue\n",
       "0   11685486       1     6201\n",
       "1   54447517       1      130\n",
       "2   66685450       1     7990\n",
       "3   78758296       1     1044\n",
       "4   85103373       1     1220"
      ]
     },
     "execution_count": 53,
     "metadata": {},
     "output_type": "execute_result"
    }
   ],
   "source": [
    "data_by_users_A = (\n",
    "    orders.query('group == \"A\"').groupby('visitorId', as_index=False).agg({'transactionId':'nunique','revenue':'sum'})\n",
    ")\n",
    "data_by_users_B = (\n",
    "    orders.query('group == \"B\"').groupby('visitorId', as_index=False).agg({'transactionId':'nunique','revenue':'sum'})\n",
    ")\n",
    "data_by_users_A.columns = ['visitorId', 'orders', 'revenue']\n",
    "data_by_users_B.columns = ['visitorId', 'orders', 'revenue']\n",
    "data_by_users_A.head()"
   ]
  },
  {
   "cell_type": "markdown",
   "metadata": {},
   "source": [
    "Число пользователей, не совершивших покупки (по группам):"
   ]
  },
  {
   "cell_type": "code",
   "execution_count": 54,
   "metadata": {},
   "outputs": [
    {
     "name": "stdout",
     "output_type": "stream",
     "text": [
      "Группа А: 18189 \n",
      "Группа В: 18281\n"
     ]
    }
   ],
   "source": [
    "null_users_A = visitors.query('group == \"A\"')['visitors'].sum() - len(data_by_users_A)\n",
    "null_users_B = visitors.query('group == \"B\"')['visitors'].sum() - len(data_by_users_B)\n",
    "print('Группа А: {} \\nГруппа В: {}'.format(null_users_A, null_users_B))"
   ]
  },
  {
   "cell_type": "markdown",
   "metadata": {},
   "source": [
    "Таблицы по заказам и выручке посетителей, не совершивших покупки:"
   ]
  },
  {
   "cell_type": "code",
   "execution_count": 55,
   "metadata": {},
   "outputs": [
    {
     "data": {
      "text/html": [
       "<div>\n",
       "<style scoped>\n",
       "    .dataframe tbody tr th:only-of-type {\n",
       "        vertical-align: middle;\n",
       "    }\n",
       "\n",
       "    .dataframe tbody tr th {\n",
       "        vertical-align: top;\n",
       "    }\n",
       "\n",
       "    .dataframe thead th {\n",
       "        text-align: right;\n",
       "    }\n",
       "</style>\n",
       "<table border=\"1\" class=\"dataframe\">\n",
       "  <thead>\n",
       "    <tr style=\"text-align: right;\">\n",
       "      <th></th>\n",
       "      <th>visitorId</th>\n",
       "      <th>orders</th>\n",
       "      <th>revenue</th>\n",
       "    </tr>\n",
       "  </thead>\n",
       "  <tbody>\n",
       "    <tr>\n",
       "      <td>445</td>\n",
       "      <td>0</td>\n",
       "      <td>0</td>\n",
       "      <td>0</td>\n",
       "    </tr>\n",
       "    <tr>\n",
       "      <td>446</td>\n",
       "      <td>0</td>\n",
       "      <td>0</td>\n",
       "      <td>0</td>\n",
       "    </tr>\n",
       "    <tr>\n",
       "      <td>447</td>\n",
       "      <td>0</td>\n",
       "      <td>0</td>\n",
       "      <td>0</td>\n",
       "    </tr>\n",
       "    <tr>\n",
       "      <td>448</td>\n",
       "      <td>0</td>\n",
       "      <td>0</td>\n",
       "      <td>0</td>\n",
       "    </tr>\n",
       "    <tr>\n",
       "      <td>449</td>\n",
       "      <td>0</td>\n",
       "      <td>0</td>\n",
       "      <td>0</td>\n",
       "    </tr>\n",
       "  </tbody>\n",
       "</table>\n",
       "</div>"
      ],
      "text/plain": [
       "     visitorId  orders  revenue\n",
       "445          0       0        0\n",
       "446          0       0        0\n",
       "447          0       0        0\n",
       "448          0       0        0\n",
       "449          0       0        0"
      ]
     },
     "execution_count": 55,
     "metadata": {},
     "output_type": "execute_result"
    }
   ],
   "source": [
    "#Группа А\n",
    "data_by_null_users_A = pd.DataFrame([[0,0,0]], index=np.arange(null_users_A))\n",
    "data_by_null_users_A.index = data_by_null_users_A.index + data_by_users_A.index.max() + 1\n",
    "data_by_null_users_A.columns = ['visitorId', 'orders', 'revenue']\n",
    "#Группа В\n",
    "data_by_null_users_B = pd.DataFrame([[0,0,0]], index=np.arange(null_users_B))\n",
    "data_by_null_users_B.index = data_by_null_users_B.index + data_by_users_B.index.max() + 1\n",
    "data_by_null_users_B.columns = ['visitorId', 'orders', 'revenue']\n",
    "data_by_null_users_A.head()"
   ]
  },
  {
   "cell_type": "markdown",
   "metadata": {},
   "source": [
    "Объединю таблицы с покупателями и прочими посетителями:"
   ]
  },
  {
   "cell_type": "code",
   "execution_count": 56,
   "metadata": {},
   "outputs": [
    {
     "data": {
      "text/html": [
       "<div>\n",
       "<style scoped>\n",
       "    .dataframe tbody tr th:only-of-type {\n",
       "        vertical-align: middle;\n",
       "    }\n",
       "\n",
       "    .dataframe tbody tr th {\n",
       "        vertical-align: top;\n",
       "    }\n",
       "\n",
       "    .dataframe thead th {\n",
       "        text-align: right;\n",
       "    }\n",
       "</style>\n",
       "<table border=\"1\" class=\"dataframe\">\n",
       "  <thead>\n",
       "    <tr style=\"text-align: right;\">\n",
       "      <th></th>\n",
       "      <th>visitorId</th>\n",
       "      <th>orders</th>\n",
       "      <th>revenue</th>\n",
       "    </tr>\n",
       "  </thead>\n",
       "  <tbody>\n",
       "    <tr>\n",
       "      <td>0</td>\n",
       "      <td>11685486</td>\n",
       "      <td>1</td>\n",
       "      <td>6201</td>\n",
       "    </tr>\n",
       "    <tr>\n",
       "      <td>1</td>\n",
       "      <td>54447517</td>\n",
       "      <td>1</td>\n",
       "      <td>130</td>\n",
       "    </tr>\n",
       "    <tr>\n",
       "      <td>2</td>\n",
       "      <td>66685450</td>\n",
       "      <td>1</td>\n",
       "      <td>7990</td>\n",
       "    </tr>\n",
       "    <tr>\n",
       "      <td>3</td>\n",
       "      <td>78758296</td>\n",
       "      <td>1</td>\n",
       "      <td>1044</td>\n",
       "    </tr>\n",
       "    <tr>\n",
       "      <td>4</td>\n",
       "      <td>85103373</td>\n",
       "      <td>1</td>\n",
       "      <td>1220</td>\n",
       "    </tr>\n",
       "    <tr>\n",
       "      <td>...</td>\n",
       "      <td>...</td>\n",
       "      <td>...</td>\n",
       "      <td>...</td>\n",
       "    </tr>\n",
       "    <tr>\n",
       "      <td>18629</td>\n",
       "      <td>0</td>\n",
       "      <td>0</td>\n",
       "      <td>0</td>\n",
       "    </tr>\n",
       "    <tr>\n",
       "      <td>18630</td>\n",
       "      <td>0</td>\n",
       "      <td>0</td>\n",
       "      <td>0</td>\n",
       "    </tr>\n",
       "    <tr>\n",
       "      <td>18631</td>\n",
       "      <td>0</td>\n",
       "      <td>0</td>\n",
       "      <td>0</td>\n",
       "    </tr>\n",
       "    <tr>\n",
       "      <td>18632</td>\n",
       "      <td>0</td>\n",
       "      <td>0</td>\n",
       "      <td>0</td>\n",
       "    </tr>\n",
       "    <tr>\n",
       "      <td>18633</td>\n",
       "      <td>0</td>\n",
       "      <td>0</td>\n",
       "      <td>0</td>\n",
       "    </tr>\n",
       "  </tbody>\n",
       "</table>\n",
       "<p>18634 rows × 3 columns</p>\n",
       "</div>"
      ],
      "text/plain": [
       "       visitorId  orders  revenue\n",
       "0       11685486       1     6201\n",
       "1       54447517       1      130\n",
       "2       66685450       1     7990\n",
       "3       78758296       1     1044\n",
       "4       85103373       1     1220\n",
       "...          ...     ...      ...\n",
       "18629          0       0        0\n",
       "18630          0       0        0\n",
       "18631          0       0        0\n",
       "18632          0       0        0\n",
       "18633          0       0        0\n",
       "\n",
       "[18634 rows x 3 columns]"
      ]
     },
     "execution_count": 56,
     "metadata": {},
     "output_type": "execute_result"
    }
   ],
   "source": [
    "#Группа А\n",
    "sample_A = pd.concat([data_by_users_A, data_by_null_users_A], axis=0)\n",
    "#Группа В\n",
    "sample_B = pd.concat([data_by_users_B, data_by_null_users_B], axis=0)\n",
    "sample_A"
   ]
  },
  {
   "cell_type": "markdown",
   "metadata": {},
   "source": [
    "Вывод о статистической значимости различий в конверсии между группами сделаю по значениям количества заказов таблиц **sample_A** и **sample_В**. Сформулирую гипотезы:  \n",
    " - Нулевая гипотеза: В группах А и В средние конверсии одинаковы\n",
    " - Альтернативная гипотеза: В группах А и В средние конверсии отличаются\n"
   ]
  },
  {
   "cell_type": "code",
   "execution_count": 57,
   "metadata": {},
   "outputs": [
    {
     "name": "stdout",
     "output_type": "stream",
     "text": [
      "Значение p-value при проверке гипотезы о равности средних конверсий в группах A и B: 0.00545\n"
     ]
    }
   ],
   "source": [
    "conversion_pvalue = st.mannwhitneyu(sample_A['orders'], sample_B['orders'])[1]\n",
    "print('Значение p-value при проверке гипотезы о равности средних конверсий в группах A и B: {:.5f}'\n",
    "      .format(conversion_pvalue))"
   ]
  },
  {
   "cell_type": "code",
   "execution_count": 58,
   "metadata": {
    "scrolled": true
   },
   "outputs": [
    {
     "name": "stdout",
     "output_type": "stream",
     "text": [
      "Гипотеза о равности средних конверсий в группах А и В скорее ложная\n"
     ]
    }
   ],
   "source": [
    "if conversion_pvalue > 0.05:\n",
    "    print('Гипотеза о равности средних конверсий в группах А и В скорее верная')\n",
    "else:\n",
    "    print('Гипотеза о равности средних конверсий в группах А и В скорее ложная')"
   ]
  },
  {
   "cell_type": "markdown",
   "metadata": {},
   "source": [
    "Относительный прирост конверсии группы В:"
   ]
  },
  {
   "cell_type": "code",
   "execution_count": 59,
   "metadata": {},
   "outputs": [
    {
     "name": "stdout",
     "output_type": "stream",
     "text": [
      "16.0 %\n"
     ]
    }
   ],
   "source": [
    "conversion_gain = sample_B['orders'].mean() / sample_A['orders'].mean() - 1\n",
    "print('{:.1f} %'.format(conversion_gain*100))"
   ]
  },
  {
   "cell_type": "markdown",
   "metadata": {},
   "source": [
    "**Выводы:**\n",
    " - Гипотезу о схожести конверсии в группах A и B не удалось подтвердить\n",
    " - Средняя конверсия в группе В выше почти на 13.8%"
   ]
  },
  {
   "cell_type": "markdown",
   "metadata": {},
   "source": [
    "<a name=\"2.13.\">-></a> \n",
    "<a href=\"#0\">К содержанию</a>"
   ]
  },
  {
   "cell_type": "markdown",
   "metadata": {},
   "source": [
    "## 2.13. Статистическая значимость различий в среднем чеке заказа между группами по «сырым» данным"
   ]
  },
  {
   "cell_type": "markdown",
   "metadata": {},
   "source": [
    "Добавлю столбец со средним чеком:"
   ]
  },
  {
   "cell_type": "code",
   "execution_count": 60,
   "metadata": {},
   "outputs": [
    {
     "data": {
      "text/html": [
       "<div>\n",
       "<style scoped>\n",
       "    .dataframe tbody tr th:only-of-type {\n",
       "        vertical-align: middle;\n",
       "    }\n",
       "\n",
       "    .dataframe tbody tr th {\n",
       "        vertical-align: top;\n",
       "    }\n",
       "\n",
       "    .dataframe thead th {\n",
       "        text-align: right;\n",
       "    }\n",
       "</style>\n",
       "<table border=\"1\" class=\"dataframe\">\n",
       "  <thead>\n",
       "    <tr style=\"text-align: right;\">\n",
       "      <th></th>\n",
       "      <th>visitorId</th>\n",
       "      <th>orders</th>\n",
       "      <th>revenue</th>\n",
       "      <th>mean_check</th>\n",
       "    </tr>\n",
       "  </thead>\n",
       "  <tbody>\n",
       "    <tr>\n",
       "      <td>0</td>\n",
       "      <td>11685486</td>\n",
       "      <td>1</td>\n",
       "      <td>6201</td>\n",
       "      <td>6201.0</td>\n",
       "    </tr>\n",
       "    <tr>\n",
       "      <td>1</td>\n",
       "      <td>54447517</td>\n",
       "      <td>1</td>\n",
       "      <td>130</td>\n",
       "      <td>130.0</td>\n",
       "    </tr>\n",
       "    <tr>\n",
       "      <td>2</td>\n",
       "      <td>66685450</td>\n",
       "      <td>1</td>\n",
       "      <td>7990</td>\n",
       "      <td>7990.0</td>\n",
       "    </tr>\n",
       "    <tr>\n",
       "      <td>3</td>\n",
       "      <td>78758296</td>\n",
       "      <td>1</td>\n",
       "      <td>1044</td>\n",
       "      <td>1044.0</td>\n",
       "    </tr>\n",
       "    <tr>\n",
       "      <td>4</td>\n",
       "      <td>85103373</td>\n",
       "      <td>1</td>\n",
       "      <td>1220</td>\n",
       "      <td>1220.0</td>\n",
       "    </tr>\n",
       "    <tr>\n",
       "      <td>...</td>\n",
       "      <td>...</td>\n",
       "      <td>...</td>\n",
       "      <td>...</td>\n",
       "      <td>...</td>\n",
       "    </tr>\n",
       "    <tr>\n",
       "      <td>440</td>\n",
       "      <td>4227830084</td>\n",
       "      <td>1</td>\n",
       "      <td>16490</td>\n",
       "      <td>16490.0</td>\n",
       "    </tr>\n",
       "    <tr>\n",
       "      <td>441</td>\n",
       "      <td>4237561104</td>\n",
       "      <td>1</td>\n",
       "      <td>590</td>\n",
       "      <td>590.0</td>\n",
       "    </tr>\n",
       "    <tr>\n",
       "      <td>442</td>\n",
       "      <td>4243832526</td>\n",
       "      <td>1</td>\n",
       "      <td>8290</td>\n",
       "      <td>8290.0</td>\n",
       "    </tr>\n",
       "    <tr>\n",
       "      <td>443</td>\n",
       "      <td>4259830713</td>\n",
       "      <td>1</td>\n",
       "      <td>3190</td>\n",
       "      <td>3190.0</td>\n",
       "    </tr>\n",
       "    <tr>\n",
       "      <td>444</td>\n",
       "      <td>4278982564</td>\n",
       "      <td>1</td>\n",
       "      <td>24744</td>\n",
       "      <td>24744.0</td>\n",
       "    </tr>\n",
       "  </tbody>\n",
       "</table>\n",
       "<p>445 rows × 4 columns</p>\n",
       "</div>"
      ],
      "text/plain": [
       "      visitorId  orders  revenue  mean_check\n",
       "0      11685486       1     6201      6201.0\n",
       "1      54447517       1      130       130.0\n",
       "2      66685450       1     7990      7990.0\n",
       "3      78758296       1     1044      1044.0\n",
       "4      85103373       1     1220      1220.0\n",
       "..          ...     ...      ...         ...\n",
       "440  4227830084       1    16490     16490.0\n",
       "441  4237561104       1      590       590.0\n",
       "442  4243832526       1     8290      8290.0\n",
       "443  4259830713       1     3190      3190.0\n",
       "444  4278982564       1    24744     24744.0\n",
       "\n",
       "[445 rows x 4 columns]"
      ]
     },
     "execution_count": 60,
     "metadata": {},
     "output_type": "execute_result"
    }
   ],
   "source": [
    "#Группа А\n",
    "data_by_users_A['mean_check'] = data_by_users_A['revenue'] / data_by_users_A['orders']\n",
    "#Группа В\n",
    "data_by_users_B['mean_check'] = data_by_users_B['revenue'] / data_by_users_B['orders'] \n",
    "data_by_users_A"
   ]
  },
  {
   "cell_type": "markdown",
   "metadata": {},
   "source": [
    "Вывод о статистической значимости различий в средних чеках между группами. Сформулирую гипотезы:  \n",
    " - Нулевая гипотеза: В группах А и В средние значения средних чеков одинаковы\n",
    " - Альтернативная гипотеза: В группах А и В средние значения средних чеков отличаются"
   ]
  },
  {
   "cell_type": "code",
   "execution_count": 61,
   "metadata": {},
   "outputs": [
    {
     "name": "stdout",
     "output_type": "stream",
     "text": [
      "Значение p-value при проверке гипотезы о равности средних значений средних чеков в группах A и B: 0.41073\n"
     ]
    }
   ],
   "source": [
    "mean_check_pvalue = st.mannwhitneyu(data_by_users_A['mean_check'], data_by_users_B['mean_check'])[1]\n",
    "print('Значение p-value при проверке гипотезы о равности средних значений средних чеков в группах A и B: {:.5f}'\n",
    "      .format(mean_check_pvalue))"
   ]
  },
  {
   "cell_type": "code",
   "execution_count": 62,
   "metadata": {
    "scrolled": true
   },
   "outputs": [
    {
     "name": "stdout",
     "output_type": "stream",
     "text": [
      "Гипотеза о равности средних значений средних чеков в группах А и В скорее верная\n"
     ]
    }
   ],
   "source": [
    "if mean_check_pvalue > 0.05:\n",
    "    print('Гипотеза о равности средних значений средних чеков в группах А и В скорее верная')\n",
    "else:\n",
    "    print('Гипотеза о равности средних значений средних чеков в группах А и В скорее ложная')"
   ]
  },
  {
   "cell_type": "markdown",
   "metadata": {},
   "source": [
    "Относительный прирост значения среднего чека группы В:"
   ]
  },
  {
   "cell_type": "code",
   "execution_count": 63,
   "metadata": {},
   "outputs": [
    {
     "name": "stdout",
     "output_type": "stream",
     "text": [
      "31.3 %\n"
     ]
    }
   ],
   "source": [
    "mean_check_gain = data_by_users_B['mean_check'].mean() / data_by_users_A['mean_check'].mean() - 1\n",
    "print('{:.1f} %'.format(mean_check_gain*100))"
   ]
  },
  {
   "cell_type": "markdown",
   "metadata": {},
   "source": [
    "**Выводы:**\n",
    " - Гипотезу о схожести средних чеков в группах A и B не удалось опровергнуть\n",
    " - Средний чек в группе В выше почти на 31%"
   ]
  },
  {
   "cell_type": "markdown",
   "metadata": {},
   "source": [
    "<a name=\"2.14.\">-></a> \n",
    "<a href=\"#0\">К содержанию</a>"
   ]
  },
  {
   "cell_type": "markdown",
   "metadata": {},
   "source": [
    "## 2.14. Статистическая значимость различий в конверсии между группами по «очищенным» данным"
   ]
  },
  {
   "cell_type": "markdown",
   "metadata": {},
   "source": [
    "Список покупателей, совершивших более **user_orders_border** покупок и/или с хотя бы одной дороже, чем **revenue_border** усл.ед.:"
   ]
  },
  {
   "cell_type": "code",
   "execution_count": 64,
   "metadata": {},
   "outputs": [
    {
     "data": {
      "text/plain": [
       "58      611059232\n",
       "211    2108163459\n",
       "310    2988190573\n",
       "409    3908431265\n",
       "416    3967698036\n",
       "Name: visitorId, dtype: int64"
      ]
     },
     "execution_count": 64,
     "metadata": {},
     "output_type": "execute_result"
    }
   ],
   "source": [
    "users_w_many_orders = pd.concat([data_by_users_A.query('orders > @user_orders_border')['visitorId'],\n",
    "                                data_by_users_B.query('orders > @user_orders_border')['visitorId']],\n",
    "                                axis=0)\n",
    "users_w_expansive_orders = orders.query('revenue > @revenue_border')['visitorId']\n",
    "abnormal_users = pd.concat([users_w_many_orders, users_w_expansive_orders], axis=0)\n",
    "abnormal_users.head()"
   ]
  },
  {
   "cell_type": "markdown",
   "metadata": {},
   "source": [
    "Удалю данные аномальных пользователей из таблиц **sample_X**:"
   ]
  },
  {
   "cell_type": "code",
   "execution_count": 65,
   "metadata": {},
   "outputs": [],
   "source": [
    "normal_sample_A = sample_A[np.logical_not(sample_A['visitorId'].isin(abnormal_users))]\n",
    "normal_sample_B = sample_B[np.logical_not(sample_B['visitorId'].isin(abnormal_users))]"
   ]
  },
  {
   "cell_type": "markdown",
   "metadata": {},
   "source": [
    "Вывод о статистической значимости различий в конверсии между группами сделаю по значениям количества заказов таблиц **normal_sample_A** и **normal_sample_B**. Сформулирую гипотезы:  \n",
    " - Нулевая гипотеза: В группах А и В средние конверсии одинаковы\n",
    " - Альтернативная гипотеза: В группах А и В средние конверсии отличаются"
   ]
  },
  {
   "cell_type": "code",
   "execution_count": 66,
   "metadata": {},
   "outputs": [
    {
     "name": "stdout",
     "output_type": "stream",
     "text": [
      "Значение p-value при проверке гипотезы о равности конверсий в группах A и B: 0.00347\n"
     ]
    }
   ],
   "source": [
    "normal_conversion_pvalue = st.mannwhitneyu(normal_sample_A['orders'], normal_sample_B['orders'])[1]\n",
    "print('Значение p-value при проверке гипотезы о равности конверсий в группах A и B: {:.5f}'.format(normal_conversion_pvalue))"
   ]
  },
  {
   "cell_type": "code",
   "execution_count": 67,
   "metadata": {
    "scrolled": true
   },
   "outputs": [
    {
     "name": "stdout",
     "output_type": "stream",
     "text": [
      "Гипотеза о равности средних конверсий в группах А и В скорее ложная\n"
     ]
    }
   ],
   "source": [
    "if normal_conversion_pvalue > 0.05:\n",
    "    print('Гипотеза о равности средних конверсий в группах А и В скорее верная')\n",
    "else:\n",
    "    print('Гипотеза о равности средних конверсий в группах А и В скорее ложная')"
   ]
  },
  {
   "cell_type": "markdown",
   "metadata": {},
   "source": [
    "Относительный прирост конверсии группы В:"
   ]
  },
  {
   "cell_type": "code",
   "execution_count": 68,
   "metadata": {},
   "outputs": [
    {
     "name": "stdout",
     "output_type": "stream",
     "text": [
      "18.9 %\n"
     ]
    }
   ],
   "source": [
    "normal_conversion_gain = normal_sample_B['orders'].mean() / normal_sample_A['orders'].mean() - 1\n",
    "print('{:.1f} %'.format(normal_conversion_gain*100))"
   ]
  },
  {
   "cell_type": "markdown",
   "metadata": {},
   "source": [
    "**Выводы:**\n",
    " - Гипотезу о схожести конверсии в группах A и B не удалось подтвердить\n",
    " - Средняя конверсия в группе В выше почти на 19%"
   ]
  },
  {
   "cell_type": "markdown",
   "metadata": {},
   "source": [
    "<a name=\"2.15.\">-></a> \n",
    "<a href=\"#0\">К содержанию</a>"
   ]
  },
  {
   "cell_type": "markdown",
   "metadata": {},
   "source": [
    "## 2.15. Статистическая значимость различий в среднем чеке заказа между группами по «очищенным» данным"
   ]
  },
  {
   "cell_type": "markdown",
   "metadata": {},
   "source": [
    "Удалю данные аномальных пользователей из таблиц **data_by_users_X**:"
   ]
  },
  {
   "cell_type": "code",
   "execution_count": 69,
   "metadata": {},
   "outputs": [],
   "source": [
    "normal_data_by_users_A = data_by_users_A[np.logical_not(data_by_users_A['visitorId'].isin(abnormal_users))]\n",
    "normal_data_by_users_B = data_by_users_B[np.logical_not(data_by_users_B['visitorId'].isin(abnormal_users))]"
   ]
  },
  {
   "cell_type": "markdown",
   "metadata": {},
   "source": [
    "Сформулирую гипотезы:  \n",
    " - Нулевая гипотеза: В группах А и В средние значения средних чеков одинаковы\n",
    " - Альтернативная гипотеза: В группах А и В средние значения средних чеков отличаются  \n",
    " \n",
    "Вывод о статистической значимости различий в средних чеках между группами:"
   ]
  },
  {
   "cell_type": "code",
   "execution_count": 70,
   "metadata": {},
   "outputs": [
    {
     "name": "stdout",
     "output_type": "stream",
     "text": [
      "Значение p-value при проверке гипотезы о равности средних значений средних чеков в группах A и B: 0.42866\n"
     ]
    }
   ],
   "source": [
    "normal_mean_check_pvalue = st.mannwhitneyu(normal_data_by_users_A['mean_check'], normal_data_by_users_B['mean_check'])[1]\n",
    "print('Значение p-value при проверке гипотезы о равности средних значений средних чеков в группах A и B: {:.5f}'.format(\n",
    "    normal_mean_check_pvalue))"
   ]
  },
  {
   "cell_type": "code",
   "execution_count": 71,
   "metadata": {
    "scrolled": true
   },
   "outputs": [
    {
     "name": "stdout",
     "output_type": "stream",
     "text": [
      "Гипотеза о равности средних значений средних чеков в группах А и В скорее верная\n"
     ]
    }
   ],
   "source": [
    "if normal_mean_check_pvalue > 0.05:\n",
    "    print('Гипотеза о равности средних значений средних чеков в группах А и В скорее верная')\n",
    "else:\n",
    "    print('Гипотеза о равности средних значений средних чеков в группах А и В скорее ложная')"
   ]
  },
  {
   "cell_type": "markdown",
   "metadata": {},
   "source": [
    "Относительный прирост значения среднего чека группы В:"
   ]
  },
  {
   "cell_type": "code",
   "execution_count": 72,
   "metadata": {},
   "outputs": [
    {
     "name": "stdout",
     "output_type": "stream",
     "text": [
      "-1.6 %\n"
     ]
    }
   ],
   "source": [
    "normal_mean_check_gain = normal_data_by_users_B['mean_check'].mean() / normal_data_by_users_A['mean_check'].mean() - 1\n",
    "print('{:.1f} %'.format(normal_mean_check_gain*100))"
   ]
  },
  {
   "cell_type": "markdown",
   "metadata": {},
   "source": [
    "**Выводы:**\n",
    " - Гипотезу о схожести средних чеков в группах A и B не удалось опровергнуть\n",
    " - Средний чек в группе В ниже на 1.6%"
   ]
  },
  {
   "cell_type": "markdown",
   "metadata": {},
   "source": [
    "<a name=\"2.16.\">-></a> \n",
    "<a href=\"#0\">К содержанию</a>"
   ]
  },
  {
   "cell_type": "markdown",
   "metadata": {},
   "source": [
    "## 2.16. Дополнения к проведенным подсчетам"
   ]
  },
  {
   "cell_type": "markdown",
   "metadata": {},
   "source": [
    "### 2.16.1. Пересчет среднего чека без эффекта подглядывания"
   ]
  },
  {
   "cell_type": "markdown",
   "metadata": {},
   "source": [
    "Первые 2 недели так или иначе наблюдался эффект подглядывания. Отфильтрую данные за это время и повторю основные вычисления. Временная граница для фильтрации данных:"
   ]
  },
  {
   "cell_type": "code",
   "execution_count": 73,
   "metadata": {},
   "outputs": [],
   "source": [
    "date_border = (\n",
    "    orders['date'].max() - \n",
    "    pd.to_timedelta(orders['date'].max() - orders['date'].min(), unit='D') \n",
    "    / 2\n",
    ")"
   ]
  },
  {
   "cell_type": "markdown",
   "metadata": {},
   "source": [
    "Отфильтрую таблицы с заказами и посетителями по граничной дате:"
   ]
  },
  {
   "cell_type": "code",
   "execution_count": 74,
   "metadata": {},
   "outputs": [],
   "source": [
    "orders_2nd_half = orders.query('date > @date_border')\n",
    "visitors_2nd_half = visitors.query('date > @date_border')"
   ]
  },
  {
   "cell_type": "markdown",
   "metadata": {},
   "source": [
    "Удалю записи \"аномальных\" покупателей. Использую уже сформированный список **abnormal_users**"
   ]
  },
  {
   "cell_type": "code",
   "execution_count": 75,
   "metadata": {},
   "outputs": [],
   "source": [
    "orders_2nd_half = orders_2nd_half[np.logical_not(orders_2nd_half['visitorId'].isin(abnormal_users))]"
   ]
  },
  {
   "cell_type": "markdown",
   "metadata": {},
   "source": [
    "Cочетания \"дата заказа - группа\":"
   ]
  },
  {
   "cell_type": "code",
   "execution_count": 76,
   "metadata": {},
   "outputs": [
    {
     "data": {
      "text/html": [
       "<div>\n",
       "<style scoped>\n",
       "    .dataframe tbody tr th:only-of-type {\n",
       "        vertical-align: middle;\n",
       "    }\n",
       "\n",
       "    .dataframe tbody tr th {\n",
       "        vertical-align: top;\n",
       "    }\n",
       "\n",
       "    .dataframe thead th {\n",
       "        text-align: right;\n",
       "    }\n",
       "</style>\n",
       "<table border=\"1\" class=\"dataframe\">\n",
       "  <thead>\n",
       "    <tr style=\"text-align: right;\">\n",
       "      <th></th>\n",
       "      <th>date</th>\n",
       "      <th>group</th>\n",
       "    </tr>\n",
       "  </thead>\n",
       "  <tbody>\n",
       "    <tr>\n",
       "      <td>86</td>\n",
       "      <td>2019-08-22</td>\n",
       "      <td>A</td>\n",
       "    </tr>\n",
       "    <tr>\n",
       "      <td>87</td>\n",
       "      <td>2019-08-22</td>\n",
       "      <td>B</td>\n",
       "    </tr>\n",
       "    <tr>\n",
       "      <td>124</td>\n",
       "      <td>2019-08-17</td>\n",
       "      <td>A</td>\n",
       "    </tr>\n",
       "    <tr>\n",
       "      <td>125</td>\n",
       "      <td>2019-08-17</td>\n",
       "      <td>B</td>\n",
       "    </tr>\n",
       "    <tr>\n",
       "      <td>167</td>\n",
       "      <td>2019-08-23</td>\n",
       "      <td>A</td>\n",
       "    </tr>\n",
       "  </tbody>\n",
       "</table>\n",
       "</div>"
      ],
      "text/plain": [
       "          date group\n",
       "86  2019-08-22     A\n",
       "87  2019-08-22     B\n",
       "124 2019-08-17     A\n",
       "125 2019-08-17     B\n",
       "167 2019-08-23     A"
      ]
     },
     "execution_count": 76,
     "metadata": {},
     "output_type": "execute_result"
    }
   ],
   "source": [
    "dates_groups_2nd_half = orders_2nd_half[['date','group']].drop_duplicates()\n",
    "dates_groups_2nd_half.head()"
   ]
  },
  {
   "cell_type": "markdown",
   "metadata": {},
   "source": [
    "Создам сгруппированную по дате и группе таблицу заказов с кумулятивными данными:"
   ]
  },
  {
   "cell_type": "code",
   "execution_count": 77,
   "metadata": {},
   "outputs": [],
   "source": [
    "orders_aggregated_2nd_half = (\n",
    "    dates_groups_2nd_half\n",
    "    .apply(lambda x: orders_2nd_half[np.logical_and(orders_2nd_half['date']<=x['date'], \n",
    "                                                    orders_2nd_half['group']==x['group'])]\n",
    "          .agg({'date':'max', 'group':'max', 'transactionId':'nunique', 'visitorId':'nunique', 'revenue':'sum'}), axis=1)\n",
    "    .sort_values(by=['date', 'group'])\n",
    "    .reset_index(drop=True)\n",
    ")"
   ]
  },
  {
   "cell_type": "markdown",
   "metadata": {},
   "source": [
    "Создам сгруппированную по дате и группе таблицу визитов с кумулятивными данными:"
   ]
  },
  {
   "cell_type": "code",
   "execution_count": 78,
   "metadata": {},
   "outputs": [],
   "source": [
    "visitors_aggregated_2nd_half = (\n",
    "    dates_groups\n",
    "    .apply(lambda x: visitors_2nd_half[np.logical_and(visitors_2nd_half['date']<=x['date'],\n",
    "                                                      visitors_2nd_half['group']==x['group'])]\n",
    "          .agg({'date':'max', 'group':'max', 'visitors':'sum'}), axis=1)\n",
    "    .sort_values(by=['date', 'group'])\n",
    "    .reset_index(drop=True)\n",
    ")"
   ]
  },
  {
   "cell_type": "markdown",
   "metadata": {},
   "source": [
    "Объединю эти две таблицы:"
   ]
  },
  {
   "cell_type": "code",
   "execution_count": 79,
   "metadata": {},
   "outputs": [],
   "source": [
    "data_aggregated_2nd_half = pd.merge(orders_aggregated_2nd_half, visitors_aggregated_2nd_half, on=['date','group'])\n",
    "data_aggregated_2nd_half.columns = ['date','group','transactions','buyers','revenue','visitors']"
   ]
  },
  {
   "cell_type": "markdown",
   "metadata": {},
   "source": [
    "Создам столбецы со средними чеками и конверсиями:"
   ]
  },
  {
   "cell_type": "code",
   "execution_count": 80,
   "metadata": {},
   "outputs": [
    {
     "data": {
      "text/html": [
       "<div>\n",
       "<style scoped>\n",
       "    .dataframe tbody tr th:only-of-type {\n",
       "        vertical-align: middle;\n",
       "    }\n",
       "\n",
       "    .dataframe tbody tr th {\n",
       "        vertical-align: top;\n",
       "    }\n",
       "\n",
       "    .dataframe thead th {\n",
       "        text-align: right;\n",
       "    }\n",
       "</style>\n",
       "<table border=\"1\" class=\"dataframe\">\n",
       "  <thead>\n",
       "    <tr style=\"text-align: right;\">\n",
       "      <th></th>\n",
       "      <th>date</th>\n",
       "      <th>group</th>\n",
       "      <th>transactions</th>\n",
       "      <th>buyers</th>\n",
       "      <th>revenue</th>\n",
       "      <th>visitors</th>\n",
       "      <th>mean_check</th>\n",
       "      <th>conversion</th>\n",
       "    </tr>\n",
       "  </thead>\n",
       "  <tbody>\n",
       "    <tr>\n",
       "      <td>0</td>\n",
       "      <td>2019-08-17</td>\n",
       "      <td>A</td>\n",
       "      <td>6</td>\n",
       "      <td>5</td>\n",
       "      <td>34740</td>\n",
       "      <td>410</td>\n",
       "      <td>6207.783</td>\n",
       "      <td>0.01463</td>\n",
       "    </tr>\n",
       "    <tr>\n",
       "      <td>1</td>\n",
       "      <td>2019-08-17</td>\n",
       "      <td>B</td>\n",
       "      <td>13</td>\n",
       "      <td>13</td>\n",
       "      <td>80865</td>\n",
       "      <td>418</td>\n",
       "      <td>3515.176</td>\n",
       "      <td>0.03110</td>\n",
       "    </tr>\n",
       "    <tr>\n",
       "      <td>2</td>\n",
       "      <td>2019-08-18</td>\n",
       "      <td>A</td>\n",
       "      <td>19</td>\n",
       "      <td>18</td>\n",
       "      <td>94321</td>\n",
       "      <td>1074</td>\n",
       "      <td>5580.500</td>\n",
       "      <td>0.01769</td>\n",
       "    </tr>\n",
       "    <tr>\n",
       "      <td>3</td>\n",
       "      <td>2019-08-18</td>\n",
       "      <td>B</td>\n",
       "      <td>20</td>\n",
       "      <td>20</td>\n",
       "      <td>116188</td>\n",
       "      <td>1151</td>\n",
       "      <td>5545.025</td>\n",
       "      <td>0.01738</td>\n",
       "    </tr>\n",
       "    <tr>\n",
       "      <td>4</td>\n",
       "      <td>2019-08-19</td>\n",
       "      <td>A</td>\n",
       "      <td>40</td>\n",
       "      <td>39</td>\n",
       "      <td>262514</td>\n",
       "      <td>1573</td>\n",
       "      <td>5255.364</td>\n",
       "      <td>0.02543</td>\n",
       "    </tr>\n",
       "  </tbody>\n",
       "</table>\n",
       "</div>"
      ],
      "text/plain": [
       "        date group  transactions  buyers  revenue  visitors  mean_check  \\\n",
       "0 2019-08-17     A             6       5    34740       410    6207.783   \n",
       "1 2019-08-17     B            13      13    80865       418    3515.176   \n",
       "2 2019-08-18     A            19      18    94321      1074    5580.500   \n",
       "3 2019-08-18     B            20      20   116188      1151    5545.025   \n",
       "4 2019-08-19     A            40      39   262514      1573    5255.364   \n",
       "\n",
       "   conversion  \n",
       "0     0.01463  \n",
       "1     0.03110  \n",
       "2     0.01769  \n",
       "3     0.01738  \n",
       "4     0.02543  "
      ]
     },
     "execution_count": 80,
     "metadata": {},
     "output_type": "execute_result"
    }
   ],
   "source": [
    "data_aggregated_2nd_half['mean_check'] = round(data_aggregated['revenue'] / data_aggregated['transactions'], 3)\n",
    "data_aggregated_2nd_half['conversion'] = round(data_aggregated_2nd_half['transactions'] \n",
    "                                               / data_aggregated_2nd_half['visitors'], 5)\n",
    "data_aggregated_2nd_half.head()"
   ]
  },
  {
   "cell_type": "markdown",
   "metadata": {},
   "source": [
    "Разделю данные по группам:"
   ]
  },
  {
   "cell_type": "code",
   "execution_count": 81,
   "metadata": {},
   "outputs": [],
   "source": [
    "data_aggregated_A_2nd_half = data_aggregated_2nd_half.query('group == \"A\"')\n",
    "data_aggregated_B_2nd_half = data_aggregated_2nd_half.query('group == \"B\"')"
   ]
  },
  {
   "cell_type": "markdown",
   "metadata": {},
   "source": [
    "Объединю данные по группам, чтобы синхронизировать временные метки:"
   ]
  },
  {
   "cell_type": "code",
   "execution_count": 82,
   "metadata": {},
   "outputs": [
    {
     "data": {
      "text/html": [
       "<div>\n",
       "<style scoped>\n",
       "    .dataframe tbody tr th:only-of-type {\n",
       "        vertical-align: middle;\n",
       "    }\n",
       "\n",
       "    .dataframe tbody tr th {\n",
       "        vertical-align: top;\n",
       "    }\n",
       "\n",
       "    .dataframe thead th {\n",
       "        text-align: right;\n",
       "    }\n",
       "</style>\n",
       "<table border=\"1\" class=\"dataframe\">\n",
       "  <thead>\n",
       "    <tr style=\"text-align: right;\">\n",
       "      <th></th>\n",
       "      <th>date</th>\n",
       "      <th>group_A</th>\n",
       "      <th>transactions_A</th>\n",
       "      <th>buyers_A</th>\n",
       "      <th>revenue_A</th>\n",
       "      <th>visitors_A</th>\n",
       "      <th>mean_check_A</th>\n",
       "      <th>conversion_A</th>\n",
       "      <th>group_B</th>\n",
       "      <th>transactions_B</th>\n",
       "      <th>buyers_B</th>\n",
       "      <th>revenue_B</th>\n",
       "      <th>visitors_B</th>\n",
       "      <th>mean_check_B</th>\n",
       "      <th>conversion_B</th>\n",
       "    </tr>\n",
       "  </thead>\n",
       "  <tbody>\n",
       "    <tr>\n",
       "      <td>0</td>\n",
       "      <td>2019-08-17</td>\n",
       "      <td>A</td>\n",
       "      <td>6</td>\n",
       "      <td>5</td>\n",
       "      <td>34740</td>\n",
       "      <td>410</td>\n",
       "      <td>6207.783</td>\n",
       "      <td>0.01463</td>\n",
       "      <td>B</td>\n",
       "      <td>13</td>\n",
       "      <td>13</td>\n",
       "      <td>80865</td>\n",
       "      <td>418</td>\n",
       "      <td>3515.176</td>\n",
       "      <td>0.03110</td>\n",
       "    </tr>\n",
       "    <tr>\n",
       "      <td>1</td>\n",
       "      <td>2019-08-18</td>\n",
       "      <td>A</td>\n",
       "      <td>19</td>\n",
       "      <td>18</td>\n",
       "      <td>94321</td>\n",
       "      <td>1074</td>\n",
       "      <td>5580.500</td>\n",
       "      <td>0.01769</td>\n",
       "      <td>B</td>\n",
       "      <td>20</td>\n",
       "      <td>20</td>\n",
       "      <td>116188</td>\n",
       "      <td>1151</td>\n",
       "      <td>5545.025</td>\n",
       "      <td>0.01738</td>\n",
       "    </tr>\n",
       "    <tr>\n",
       "      <td>2</td>\n",
       "      <td>2019-08-19</td>\n",
       "      <td>A</td>\n",
       "      <td>40</td>\n",
       "      <td>39</td>\n",
       "      <td>262514</td>\n",
       "      <td>1573</td>\n",
       "      <td>5255.364</td>\n",
       "      <td>0.02543</td>\n",
       "      <td>B</td>\n",
       "      <td>40</td>\n",
       "      <td>39</td>\n",
       "      <td>251608</td>\n",
       "      <td>1635</td>\n",
       "      <td>5349.074</td>\n",
       "      <td>0.02446</td>\n",
       "    </tr>\n",
       "  </tbody>\n",
       "</table>\n",
       "</div>"
      ],
      "text/plain": [
       "        date group_A  transactions_A  buyers_A  revenue_A  visitors_A  \\\n",
       "0 2019-08-17       A               6         5      34740         410   \n",
       "1 2019-08-18       A              19        18      94321        1074   \n",
       "2 2019-08-19       A              40        39     262514        1573   \n",
       "\n",
       "   mean_check_A  conversion_A group_B  transactions_B  buyers_B  revenue_B  \\\n",
       "0      6207.783       0.01463       B              13        13      80865   \n",
       "1      5580.500       0.01769       B              20        20     116188   \n",
       "2      5255.364       0.02543       B              40        39     251608   \n",
       "\n",
       "   visitors_B  mean_check_B  conversion_B  \n",
       "0         418      3515.176       0.03110  \n",
       "1        1151      5545.025       0.01738  \n",
       "2        1635      5349.074       0.02446  "
      ]
     },
     "execution_count": 82,
     "metadata": {},
     "output_type": "execute_result"
    }
   ],
   "source": [
    "merged_data_aggregated_AB_2nd_half = pd.merge(\n",
    "    data_aggregated_A_2nd_half, data_aggregated_B_2nd_half,\n",
    "    how='left', on='date', suffixes=['_A','_B'])\n",
    "merged_data_aggregated_AB_2nd_half.head(3)"
   ]
  },
  {
   "cell_type": "markdown",
   "metadata": {},
   "source": [
    "Графики кумулятивных средних чеков по группам:"
   ]
  },
  {
   "cell_type": "code",
   "execution_count": 83,
   "metadata": {},
   "outputs": [
    {
     "data": {
      "image/png": "[encoded data removed]",
      "text/plain": [
       "<Figure size 1080x432 with 1 Axes>"
      ]
     },
     "metadata": {
      "needs_background": "light"
     },
     "output_type": "display_data"
    }
   ],
   "source": [
    "plt.figure(figsize=[15,6])\n",
    "plt.plot(data_aggregated_A_2nd_half['date'], data_aggregated_A_2nd_half['mean_check'], label='A')\n",
    "plt.plot(data_aggregated_B_2nd_half['date'], data_aggregated_B_2nd_half['mean_check'], label='B')\n",
    "plt.title('Кумулятивный средний чек по группам')\n",
    "plt.xlabel('Дата')\n",
    "plt.ylabel('Средний чек, усл.ед.')\n",
    "plt.legend()\n",
    "plt.show()"
   ]
  },
  {
   "cell_type": "markdown",
   "metadata": {},
   "source": [
    "График относительного изменения кумулятивного среднего чека группы **B** к группе **A**:"
   ]
  },
  {
   "cell_type": "code",
   "execution_count": 84,
   "metadata": {},
   "outputs": [
    {
     "data": {
      "image/png": "[encoded data removed]",
      "text/plain": [
       "<Figure size 1080x432 with 1 Axes>"
      ]
     },
     "metadata": {
      "needs_background": "light"
     },
     "output_type": "display_data"
    }
   ],
   "source": [
    "plt.figure(figsize=[15,6])\n",
    "plt.plot(merged_data_aggregated_AB_2nd_half['date'],\n",
    "    merged_data_aggregated_AB_2nd_half['mean_check_B'] / merged_data_aggregated_AB_2nd_half['mean_check_A'] - 1)\n",
    "plt.ylabel('Относительный прирост')\n",
    "plt.xlabel('Дата')\n",
    "plt.title('Относительное изменение кумулятивного среднего чека группы B к группе A')\n",
    "plt.axhline(y=0, color='grey', linestyle='--')\n",
    "plt.show()"
   ]
  },
  {
   "cell_type": "markdown",
   "metadata": {},
   "source": [
    "Теперь сделаю вывод о статистической значимости различий в средних чеках между группами. Сформулирую гипотезы:  \n",
    " - Нулевая гипотеза: В группах А и В средние значения средних чеков одинаковы\n",
    " - Альтернативная гипотеза: В группах А и В средние значения средних чеков отличаются"
   ]
  },
  {
   "cell_type": "markdown",
   "metadata": {},
   "source": [
    "Сгруппирую данные заказов по id покупателей и агрегирую число заказов и их суммы:"
   ]
  },
  {
   "cell_type": "code",
   "execution_count": 85,
   "metadata": {},
   "outputs": [],
   "source": [
    "data_by_users_A_2nd_half = (\n",
    "    orders_2nd_half.query('group == \"A\"').groupby('visitorId', as_index=False)\n",
    "    .agg({'transactionId':'nunique','revenue':'sum'})\n",
    ")\n",
    "data_by_users_B_2nd_half = (\n",
    "    orders_2nd_half.query('group == \"B\"').groupby('visitorId', as_index=False)\n",
    "    .agg({'transactionId':'nunique','revenue':'sum'})\n",
    ")\n",
    "data_by_users_A_2nd_half.columns = ['visitorId', 'orders', 'revenue']\n",
    "data_by_users_B_2nd_half.columns = ['visitorId', 'orders', 'revenue']"
   ]
  },
  {
   "cell_type": "markdown",
   "metadata": {},
   "source": [
    "Добавлю столбец со средним чеком:"
   ]
  },
  {
   "cell_type": "code",
   "execution_count": 86,
   "metadata": {},
   "outputs": [
    {
     "data": {
      "text/html": [
       "<div>\n",
       "<style scoped>\n",
       "    .dataframe tbody tr th:only-of-type {\n",
       "        vertical-align: middle;\n",
       "    }\n",
       "\n",
       "    .dataframe tbody tr th {\n",
       "        vertical-align: top;\n",
       "    }\n",
       "\n",
       "    .dataframe thead th {\n",
       "        text-align: right;\n",
       "    }\n",
       "</style>\n",
       "<table border=\"1\" class=\"dataframe\">\n",
       "  <thead>\n",
       "    <tr style=\"text-align: right;\">\n",
       "      <th></th>\n",
       "      <th>visitorId</th>\n",
       "      <th>orders</th>\n",
       "      <th>revenue</th>\n",
       "      <th>mean_check</th>\n",
       "    </tr>\n",
       "  </thead>\n",
       "  <tbody>\n",
       "    <tr>\n",
       "      <td>0</td>\n",
       "      <td>11685486</td>\n",
       "      <td>1</td>\n",
       "      <td>6201</td>\n",
       "      <td>6201.0</td>\n",
       "    </tr>\n",
       "    <tr>\n",
       "      <td>1</td>\n",
       "      <td>138252163</td>\n",
       "      <td>1</td>\n",
       "      <td>4580</td>\n",
       "      <td>4580.0</td>\n",
       "    </tr>\n",
       "    <tr>\n",
       "      <td>2</td>\n",
       "      <td>151496413</td>\n",
       "      <td>1</td>\n",
       "      <td>350</td>\n",
       "      <td>350.0</td>\n",
       "    </tr>\n",
       "    <tr>\n",
       "      <td>3</td>\n",
       "      <td>178249104</td>\n",
       "      <td>1</td>\n",
       "      <td>16950</td>\n",
       "      <td>16950.0</td>\n",
       "    </tr>\n",
       "    <tr>\n",
       "      <td>4</td>\n",
       "      <td>181166394</td>\n",
       "      <td>1</td>\n",
       "      <td>4780</td>\n",
       "      <td>4780.0</td>\n",
       "    </tr>\n",
       "  </tbody>\n",
       "</table>\n",
       "</div>"
      ],
      "text/plain": [
       "   visitorId  orders  revenue  mean_check\n",
       "0   11685486       1     6201      6201.0\n",
       "1  138252163       1     4580      4580.0\n",
       "2  151496413       1      350       350.0\n",
       "3  178249104       1    16950     16950.0\n",
       "4  181166394       1     4780      4780.0"
      ]
     },
     "execution_count": 86,
     "metadata": {},
     "output_type": "execute_result"
    }
   ],
   "source": [
    "#Группа А\n",
    "data_by_users_A_2nd_half['mean_check'] = data_by_users_A_2nd_half['revenue'] / data_by_users_A_2nd_half['orders']\n",
    "#Группа В\n",
    "data_by_users_B_2nd_half['mean_check'] = data_by_users_B_2nd_half['revenue'] / data_by_users_B_2nd_half['orders'] \n",
    "data_by_users_A_2nd_half.head()"
   ]
  },
  {
   "cell_type": "code",
   "execution_count": 87,
   "metadata": {},
   "outputs": [
    {
     "name": "stdout",
     "output_type": "stream",
     "text": [
      "Значение p-value при проверке гипотезы о равности средних значений средних чеков в группах A и B: 0.44668\n"
     ]
    }
   ],
   "source": [
    "mean_check_pvalue_2nd_half = st.mannwhitneyu(data_by_users_A_2nd_half['mean_check'],\n",
    "                                             data_by_users_B_2nd_half['mean_check'])[1]\n",
    "print('Значение p-value при проверке гипотезы о равности средних значений средних чеков в группах A и B: {:.5f}'\n",
    "      .format(mean_check_pvalue_2nd_half))"
   ]
  },
  {
   "cell_type": "code",
   "execution_count": 88,
   "metadata": {
    "scrolled": true
   },
   "outputs": [
    {
     "name": "stdout",
     "output_type": "stream",
     "text": [
      "Гипотеза о равности средних значений средних чеков в группах А и В скорее верная\n"
     ]
    }
   ],
   "source": [
    "if mean_check_pvalue_2nd_half > 0.05:\n",
    "    print('Гипотеза о равности средних значений средних чеков в группах А и В скорее верная')\n",
    "else:\n",
    "    print('Гипотеза о равности средних значений средних чеков в группах А и В скорее ложная')"
   ]
  },
  {
   "cell_type": "markdown",
   "metadata": {},
   "source": [
    "Относительный прирост значения среднего чека группы В:"
   ]
  },
  {
   "cell_type": "code",
   "execution_count": 89,
   "metadata": {},
   "outputs": [
    {
     "name": "stdout",
     "output_type": "stream",
     "text": [
      "-5.363 %\n"
     ]
    }
   ],
   "source": [
    "mean_check_2nd_half_gain = data_by_users_B_2nd_half['mean_check'].mean() / data_by_users_A_2nd_half['mean_check'].mean() - 1\n",
    "print('{:.3f} %'.format(mean_check_2nd_half_gain*100))"
   ]
  },
  {
   "cell_type": "markdown",
   "metadata": {},
   "source": [
    "**Вывод**: \n",
    " - Судя по графикам, первенство переходит от одной группы к другой и однозначный вывод сделать практически не возможно\n",
    " - После проверки гипотезы и подсчета относительного прироста можно предположить, что средние чеки скорее схожи и если разница присутствует, то она незначительна."
   ]
  },
  {
   "cell_type": "markdown",
   "metadata": {},
   "source": [
    "### 2.16.2. Пересчет конверсии без эффекта подглядывания"
   ]
  },
  {
   "cell_type": "markdown",
   "metadata": {},
   "source": [
    "График кумулятивных конверсий по группам:"
   ]
  },
  {
   "cell_type": "code",
   "execution_count": 90,
   "metadata": {},
   "outputs": [
    {
     "data": {
      "image/png": "[encoded data removed]",
      "text/plain": [
       "<Figure size 1080x432 with 1 Axes>"
      ]
     },
     "metadata": {
      "needs_background": "light"
     },
     "output_type": "display_data"
    }
   ],
   "source": [
    "plt.figure(figsize=[15,6])\n",
    "plt.plot(data_aggregated_A_2nd_half['date'], 100*data_aggregated_A_2nd_half['conversion'], label='A')\n",
    "plt.plot(data_aggregated_B_2nd_half['date'], 100*data_aggregated_B_2nd_half['conversion'], label='B')\n",
    "plt.title('Изменение кумулятивной конверсии по группам')\n",
    "plt.xlabel('Дата')\n",
    "plt.ylabel('Коэффициент кумулятивной конверсии, %')\n",
    "plt.legend()\n",
    "plt.show()"
   ]
  },
  {
   "cell_type": "markdown",
   "metadata": {},
   "source": [
    "График относительного изменения кумулятивной конверсии группы B к группе A"
   ]
  },
  {
   "cell_type": "code",
   "execution_count": 91,
   "metadata": {},
   "outputs": [
    {
     "data": {
      "image/png": "[encoded data removed]",
      "text/plain": [
       "<Figure size 1080x432 with 1 Axes>"
      ]
     },
     "metadata": {
      "needs_background": "light"
     },
     "output_type": "display_data"
    }
   ],
   "source": [
    "plt.figure(figsize=[15,6])\n",
    "plt.plot(merged_data_aggregated_AB_2nd_half['date'],\n",
    "    merged_data_aggregated_AB_2nd_half['conversion_B'] / merged_data_aggregated_AB_2nd_half['conversion_A'] - 1)\n",
    "plt.xlabel('Дата')\n",
    "plt.ylabel('Относительный прирост')\n",
    "plt.title('Относительное изменение кумулятивной конверсии группы B к группе A')\n",
    "plt.axhline(y=0, color='grey', linestyle='--')\n",
    "plt.show()"
   ]
  },
  {
   "cell_type": "markdown",
   "metadata": {},
   "source": [
    "Графики показывают небольшой выигрыш в последние дни группы **B**. Теперь посчитаю статистическую значимость различия."
   ]
  },
  {
   "cell_type": "markdown",
   "metadata": {},
   "source": [
    "Число пользователей, не совершивших покупки (по группам):"
   ]
  },
  {
   "cell_type": "code",
   "execution_count": 92,
   "metadata": {},
   "outputs": [
    {
     "name": "stdout",
     "output_type": "stream",
     "text": [
      "Группа А: 8439 \n",
      "Группа В: 8622\n"
     ]
    }
   ],
   "source": [
    "null_users_A_2nd_half = visitors_2nd_half.query('group == \"A\"')['visitors'].sum() - len(data_by_users_A_2nd_half)\n",
    "null_users_B_2nd_half = visitors_2nd_half.query('group == \"B\"')['visitors'].sum() - len(data_by_users_B_2nd_half)\n",
    "print('Группа А: {} \\nГруппа В: {}'.format(null_users_A_2nd_half, null_users_B_2nd_half))"
   ]
  },
  {
   "cell_type": "markdown",
   "metadata": {},
   "source": [
    "Таблицы по заказам и выручке посетителей, не совершивших покупки:"
   ]
  },
  {
   "cell_type": "code",
   "execution_count": 93,
   "metadata": {},
   "outputs": [
    {
     "data": {
      "text/html": [
       "<div>\n",
       "<style scoped>\n",
       "    .dataframe tbody tr th:only-of-type {\n",
       "        vertical-align: middle;\n",
       "    }\n",
       "\n",
       "    .dataframe tbody tr th {\n",
       "        vertical-align: top;\n",
       "    }\n",
       "\n",
       "    .dataframe thead th {\n",
       "        text-align: right;\n",
       "    }\n",
       "</style>\n",
       "<table border=\"1\" class=\"dataframe\">\n",
       "  <thead>\n",
       "    <tr style=\"text-align: right;\">\n",
       "      <th></th>\n",
       "      <th>visitorId</th>\n",
       "      <th>orders</th>\n",
       "      <th>revenue</th>\n",
       "      <th>mean_check</th>\n",
       "    </tr>\n",
       "  </thead>\n",
       "  <tbody>\n",
       "    <tr>\n",
       "      <td>202</td>\n",
       "      <td>0</td>\n",
       "      <td>0</td>\n",
       "      <td>0</td>\n",
       "      <td>0</td>\n",
       "    </tr>\n",
       "    <tr>\n",
       "      <td>203</td>\n",
       "      <td>0</td>\n",
       "      <td>0</td>\n",
       "      <td>0</td>\n",
       "      <td>0</td>\n",
       "    </tr>\n",
       "    <tr>\n",
       "      <td>204</td>\n",
       "      <td>0</td>\n",
       "      <td>0</td>\n",
       "      <td>0</td>\n",
       "      <td>0</td>\n",
       "    </tr>\n",
       "    <tr>\n",
       "      <td>205</td>\n",
       "      <td>0</td>\n",
       "      <td>0</td>\n",
       "      <td>0</td>\n",
       "      <td>0</td>\n",
       "    </tr>\n",
       "    <tr>\n",
       "      <td>206</td>\n",
       "      <td>0</td>\n",
       "      <td>0</td>\n",
       "      <td>0</td>\n",
       "      <td>0</td>\n",
       "    </tr>\n",
       "  </tbody>\n",
       "</table>\n",
       "</div>"
      ],
      "text/plain": [
       "     visitorId  orders  revenue  mean_check\n",
       "202          0       0        0           0\n",
       "203          0       0        0           0\n",
       "204          0       0        0           0\n",
       "205          0       0        0           0\n",
       "206          0       0        0           0"
      ]
     },
     "execution_count": 93,
     "metadata": {},
     "output_type": "execute_result"
    }
   ],
   "source": [
    "#Группа А\n",
    "data_by_null_users_A_2nd_half = pd.DataFrame([[0,0,0,0]], index=np.arange(null_users_A_2nd_half))\n",
    "data_by_null_users_A_2nd_half.index = data_by_null_users_A_2nd_half.index + data_by_users_A_2nd_half.index.max() + 1\n",
    "data_by_null_users_A_2nd_half.columns = ['visitorId', 'orders', 'revenue', 'mean_check']\n",
    "#Группа В\n",
    "data_by_null_users_B_2nd_half = pd.DataFrame([[0,0,0,0]], index=np.arange(null_users_B_2nd_half))\n",
    "data_by_null_users_B_2nd_half.index = data_by_null_users_B_2nd_half.index + data_by_users_B_2nd_half.index.max() + 1\n",
    "data_by_null_users_B_2nd_half.columns = ['visitorId', 'orders', 'revenue', 'mean_check']\n",
    "data_by_null_users_A_2nd_half.head()"
   ]
  },
  {
   "cell_type": "markdown",
   "metadata": {},
   "source": [
    "Объединю таблицы с покупателями и прочими посетителями:"
   ]
  },
  {
   "cell_type": "code",
   "execution_count": 94,
   "metadata": {},
   "outputs": [
    {
     "data": {
      "text/html": [
       "<div>\n",
       "<style scoped>\n",
       "    .dataframe tbody tr th:only-of-type {\n",
       "        vertical-align: middle;\n",
       "    }\n",
       "\n",
       "    .dataframe tbody tr th {\n",
       "        vertical-align: top;\n",
       "    }\n",
       "\n",
       "    .dataframe thead th {\n",
       "        text-align: right;\n",
       "    }\n",
       "</style>\n",
       "<table border=\"1\" class=\"dataframe\">\n",
       "  <thead>\n",
       "    <tr style=\"text-align: right;\">\n",
       "      <th></th>\n",
       "      <th>visitorId</th>\n",
       "      <th>orders</th>\n",
       "      <th>revenue</th>\n",
       "      <th>mean_check</th>\n",
       "    </tr>\n",
       "  </thead>\n",
       "  <tbody>\n",
       "    <tr>\n",
       "      <td>0</td>\n",
       "      <td>11685486</td>\n",
       "      <td>1</td>\n",
       "      <td>6201</td>\n",
       "      <td>6201.0</td>\n",
       "    </tr>\n",
       "    <tr>\n",
       "      <td>1</td>\n",
       "      <td>138252163</td>\n",
       "      <td>1</td>\n",
       "      <td>4580</td>\n",
       "      <td>4580.0</td>\n",
       "    </tr>\n",
       "    <tr>\n",
       "      <td>2</td>\n",
       "      <td>151496413</td>\n",
       "      <td>1</td>\n",
       "      <td>350</td>\n",
       "      <td>350.0</td>\n",
       "    </tr>\n",
       "    <tr>\n",
       "      <td>3</td>\n",
       "      <td>178249104</td>\n",
       "      <td>1</td>\n",
       "      <td>16950</td>\n",
       "      <td>16950.0</td>\n",
       "    </tr>\n",
       "    <tr>\n",
       "      <td>4</td>\n",
       "      <td>181166394</td>\n",
       "      <td>1</td>\n",
       "      <td>4780</td>\n",
       "      <td>4780.0</td>\n",
       "    </tr>\n",
       "    <tr>\n",
       "      <td>...</td>\n",
       "      <td>...</td>\n",
       "      <td>...</td>\n",
       "      <td>...</td>\n",
       "      <td>...</td>\n",
       "    </tr>\n",
       "    <tr>\n",
       "      <td>8636</td>\n",
       "      <td>0</td>\n",
       "      <td>0</td>\n",
       "      <td>0</td>\n",
       "      <td>0.0</td>\n",
       "    </tr>\n",
       "    <tr>\n",
       "      <td>8637</td>\n",
       "      <td>0</td>\n",
       "      <td>0</td>\n",
       "      <td>0</td>\n",
       "      <td>0.0</td>\n",
       "    </tr>\n",
       "    <tr>\n",
       "      <td>8638</td>\n",
       "      <td>0</td>\n",
       "      <td>0</td>\n",
       "      <td>0</td>\n",
       "      <td>0.0</td>\n",
       "    </tr>\n",
       "    <tr>\n",
       "      <td>8639</td>\n",
       "      <td>0</td>\n",
       "      <td>0</td>\n",
       "      <td>0</td>\n",
       "      <td>0.0</td>\n",
       "    </tr>\n",
       "    <tr>\n",
       "      <td>8640</td>\n",
       "      <td>0</td>\n",
       "      <td>0</td>\n",
       "      <td>0</td>\n",
       "      <td>0.0</td>\n",
       "    </tr>\n",
       "  </tbody>\n",
       "</table>\n",
       "<p>8641 rows × 4 columns</p>\n",
       "</div>"
      ],
      "text/plain": [
       "      visitorId  orders  revenue  mean_check\n",
       "0      11685486       1     6201      6201.0\n",
       "1     138252163       1     4580      4580.0\n",
       "2     151496413       1      350       350.0\n",
       "3     178249104       1    16950     16950.0\n",
       "4     181166394       1     4780      4780.0\n",
       "...         ...     ...      ...         ...\n",
       "8636          0       0        0         0.0\n",
       "8637          0       0        0         0.0\n",
       "8638          0       0        0         0.0\n",
       "8639          0       0        0         0.0\n",
       "8640          0       0        0         0.0\n",
       "\n",
       "[8641 rows x 4 columns]"
      ]
     },
     "execution_count": 94,
     "metadata": {},
     "output_type": "execute_result"
    }
   ],
   "source": [
    "#Группа А\n",
    "sample_A_2nd_half = pd.concat([data_by_users_A_2nd_half, data_by_null_users_A_2nd_half], axis=0)\n",
    "#Группа В\n",
    "sample_B_2nd_half = pd.concat([data_by_users_B_2nd_half, data_by_null_users_B_2nd_half], axis=0)\n",
    "sample_A_2nd_half"
   ]
  },
  {
   "cell_type": "markdown",
   "metadata": {},
   "source": [
    "Вывод о статистической значимости различий в конверсии между группами сделаю по значениям количества заказов таблиц **sample_A_2nd_half** и **sample_В_2nd_half**. Сформулирую гипотезы:  \n",
    " - Нулевая гипотеза: В группах А и В средние конверсии одинаковы\n",
    " - Альтернативная гипотеза: В группах А и В средние конверсии отличаются"
   ]
  },
  {
   "cell_type": "code",
   "execution_count": 95,
   "metadata": {},
   "outputs": [
    {
     "name": "stdout",
     "output_type": "stream",
     "text": [
      "Значение p-value при проверке гипотезы о равности средних конверсий в группах A и B: 0.14288\n"
     ]
    }
   ],
   "source": [
    "conversion_pvalue_2nd_half = st.mannwhitneyu(sample_A_2nd_half['orders'], sample_B_2nd_half['orders'])[1]\n",
    "print('Значение p-value при проверке гипотезы о равности средних конверсий в группах A и B: {:.5f}'\n",
    "      .format(conversion_pvalue_2nd_half))"
   ]
  },
  {
   "cell_type": "code",
   "execution_count": 96,
   "metadata": {
    "scrolled": true
   },
   "outputs": [
    {
     "name": "stdout",
     "output_type": "stream",
     "text": [
      "Гипотеза о равности средних конверсий в группах А и В скорее верная\n"
     ]
    }
   ],
   "source": [
    "if conversion_pvalue_2nd_half > 0.05:\n",
    "    print('Гипотеза о равности средних конверсий в группах А и В скорее верная')\n",
    "else:\n",
    "    print('Гипотеза о равности средних конверсий в группах А и В скорее ложная')"
   ]
  },
  {
   "cell_type": "markdown",
   "metadata": {},
   "source": [
    "Относительный прирост конверсии группы В:"
   ]
  },
  {
   "cell_type": "code",
   "execution_count": 97,
   "metadata": {},
   "outputs": [
    {
     "name": "stdout",
     "output_type": "stream",
     "text": [
      "11.914 %\n"
     ]
    }
   ],
   "source": [
    "conversion_pvalue_2nd_half_gain = sample_B_2nd_half['orders'].mean() / sample_A_2nd_half['orders'].mean() - 1\n",
    "print('{:.3f} %'.format(conversion_pvalue_2nd_half_gain*100))"
   ]
  },
  {
   "cell_type": "markdown",
   "metadata": {},
   "source": [
    "**Вывод**:\n",
    " - Судя по графикам, разница в конверссии в группах не определяется.\n",
    " - Результаты проверки гипотезы и подсчета относительного прироста также нельзя назвать однозначными. Необходимы еще наблюдения."
   ]
  },
  {
   "cell_type": "markdown",
   "metadata": {},
   "source": [
    "### 2.16.3. Подсчет желательной продолжительности тестирования"
   ]
  },
  {
   "cell_type": "markdown",
   "metadata": {},
   "source": [
    "Для этого воспользуюсь ресурсом **vwo.com**. Укажу такие значения параметров:\n",
    " - базовая конверсия: 3%\n",
    " - Значение разницы в конверсиях, которое желательно обнаружить: 10%\n",
    " - Среднее число посетителй в день: 607\n",
    " - Процент посетителей, участвующих в тестировании: 50%"
   ]
  },
  {
   "cell_type": "markdown",
   "metadata": {},
   "source": [
    "Ресурс рекомендовал проводить тестирование 341 день."
   ]
  },
  {
   "cell_type": "markdown",
   "metadata": {},
   "source": [
    "**Выводы:**\n",
    " - Относительный прирост конверсии остался почти в том же порядке, а значение p-value сильно приблизилось к уровню статистической значимости. Но результаты все равно противоречивые.\n",
    " - Ресурс **vwo.com** рекомендовал проводить тестирование 341 день."
   ]
  },
  {
   "cell_type": "markdown",
   "metadata": {},
   "source": [
    "<a name=\"2.17.\">-></a> \n",
    "<a href=\"#0\">К содержанию</a>"
   ]
  },
  {
   "cell_type": "markdown",
   "metadata": {},
   "source": [
    "## 2.17. Выводы по результатам теста"
   ]
  },
  {
   "cell_type": "markdown",
   "metadata": {},
   "source": [
    "Сделаю выводы по основным метрикам (конверсия и средний чек), вычисленным при различных обстоятельствах: \n",
    " - Сырые данные (**raw_data**)\n",
    " - Очищенные данные (**normal_data**)\n",
    " - Очищенные данные с уменьшенным эффектом подглядывания (**2last_weeks_normal_data**)"
   ]
  },
  {
   "cell_type": "code",
   "execution_count": 98,
   "metadata": {},
   "outputs": [
    {
     "data": {
      "text/html": [
       "<div>\n",
       "<style scoped>\n",
       "    .dataframe tbody tr th:only-of-type {\n",
       "        vertical-align: middle;\n",
       "    }\n",
       "\n",
       "    .dataframe tbody tr th {\n",
       "        vertical-align: top;\n",
       "    }\n",
       "\n",
       "    .dataframe thead th {\n",
       "        text-align: right;\n",
       "    }\n",
       "</style>\n",
       "<table border=\"1\" class=\"dataframe\">\n",
       "  <thead>\n",
       "    <tr style=\"text-align: right;\">\n",
       "      <th></th>\n",
       "      <th>conversion_pvalue (alpha=0.05)</th>\n",
       "      <th>conversion_gain, %</th>\n",
       "      <th>mean-check_pvalue (alpha=0.05)</th>\n",
       "      <th>mean-check_gain, %</th>\n",
       "    </tr>\n",
       "  </thead>\n",
       "  <tbody>\n",
       "    <tr>\n",
       "      <td>raw_data</td>\n",
       "      <td>0.005453</td>\n",
       "      <td>16.004568</td>\n",
       "      <td>0.410729</td>\n",
       "      <td>31.308413</td>\n",
       "    </tr>\n",
       "    <tr>\n",
       "      <td>normal_data</td>\n",
       "      <td>0.003474</td>\n",
       "      <td>18.946065</td>\n",
       "      <td>0.428657</td>\n",
       "      <td>-1.565365</td>\n",
       "    </tr>\n",
       "    <tr>\n",
       "      <td>2last_weeks_normal_data</td>\n",
       "      <td>0.142882</td>\n",
       "      <td>11.914321</td>\n",
       "      <td>0.446677</td>\n",
       "      <td>-5.363182</td>\n",
       "    </tr>\n",
       "  </tbody>\n",
       "</table>\n",
       "</div>"
      ],
      "text/plain": [
       "                         conversion_pvalue (alpha=0.05)  conversion_gain, %  \\\n",
       "raw_data                                       0.005453           16.004568   \n",
       "normal_data                                    0.003474           18.946065   \n",
       "2last_weeks_normal_data                        0.142882           11.914321   \n",
       "\n",
       "                         mean-check_pvalue (alpha=0.05)  mean-check_gain, %  \n",
       "raw_data                                       0.410729           31.308413  \n",
       "normal_data                                    0.428657           -1.565365  \n",
       "2last_weeks_normal_data                        0.446677           -5.363182  "
      ]
     },
     "execution_count": 98,
     "metadata": {},
     "output_type": "execute_result"
    }
   ],
   "source": [
    "pd.DataFrame(data=[\n",
    "    [conversion_pvalue, conversion_gain*100, mean_check_pvalue, mean_check_gain*100],\n",
    "    [normal_conversion_pvalue, normal_conversion_gain*100, normal_mean_check_pvalue, normal_mean_check_gain*100],\n",
    "    [conversion_pvalue_2nd_half, conversion_pvalue_2nd_half_gain*100, \n",
    "     mean_check_pvalue_2nd_half, mean_check_2nd_half_gain*100]\n",
    "], \n",
    "             columns=['conversion_pvalue (alpha=0.05)','conversion_gain, %',\n",
    "                      'mean-check_pvalue (alpha=0.05)','mean-check_gain, %',],\n",
    "             index=['raw_data', 'normal_data', '2last_weeks_normal_data']\n",
    "    \n",
    ")"
   ]
  },
  {
   "cell_type": "markdown",
   "metadata": {},
   "source": [
    "**По данным из таблицы можно сделать следующие выводы**:  \n",
    " - **Конверсия**:\n",
    "   - Сырые и очищенные данные говорят о явной разнице в конверсии\n",
    "   - Если минимизировать эффект подглядывания, то разница в конверсии уменьшается: гипотеза об их равности получается уже не такой ложной и относительный прирост уменьшился.\n",
    " - **Средний чек**:\n",
    "   - По сырым данным получаются противоречивые метрики. Гипотеза о равности средних чеков скорее верная, но относительный прирост велик\n",
    "   - После удаления данных об аномальных покупках метрики перестают быть противоречивыми. Подсчеты говорят о схожести средних чеков\n",
    "   - Если минимизировать эффект подглядывания, то отношение средних чеков немного меняется и результаты становятся немногим более противоречивыми, чем в случае с просто очищенными данными."
   ]
  },
  {
   "cell_type": "markdown",
   "metadata": {},
   "source": [
    "<a name=\"3.\">-></a> \n",
    "<a href=\"#0\">К содержанию</a>"
   ]
  },
  {
   "cell_type": "markdown",
   "metadata": {},
   "source": [
    "# 3. Общий вывод и рекомендации"
   ]
  },
  {
   "cell_type": "markdown",
   "metadata": {},
   "source": [
    "**Вывод по приоретизация гипотез**:  \n",
    " По результатам применения наиболее объективного датафрейма RICE - тройка наиболее прерспективных для проверки гипотез:\n",
    "  - *Запустить акцию, дающую скидку на товар в день рождения*\n",
    "  - *Добавить два новых канала привлечения трафика, что позволит привлекать на 30% больше пользователей*\n",
    "  - *Добавить форму подписки на все основные страницы, чтобы собрать базу клиентов для email-рассылок*  \n",
    "    \n",
    "**Вывод по анализу данных и А/Б-теста**:  \n",
    " Выводы по основным метрикам (конверсия и средний чек):\n",
    "  - **Конверсия**. Анализ имеющихся данных показал, что в процессе их очистки результаты стремятся к подтверждению гипотезы о равности конверсий. Но этого не достаточно для окончательных выводов.\n",
    "  - **Средний чек**. Здесь ситуация более однозначная, чем с конверсией. Дополнительные наблюдения скорее всего подтвердят гипотезу о равности средних чеков в группах\n",
    "  \n",
    "**Рекомендации**:\n",
    "  \n",
    "  Рекомендация здесь одна. Стоит продолжить тест с чекпойнтами каждые 2 недели для расчета динамики измения метрик. Ресурс **vwo.com** рекомендовал проводить тестирование в течение 341 дня. Если судить по уже имеющимся данными, нам потребуется меньше времени для сравнения групп."
   ]
  }
 ],
 "metadata": {
  "kernelspec": {
   "display_name": "Python 3",
   "language": "python",
   "name": "python3"
  },
  "language_info": {
   "codemirror_mode": {
    "name": "ipython",
    "version": 3
   },
   "file_extension": ".py",
   "mimetype": "text/x-python",
   "name": "python",
   "nbconvert_exporter": "python",
   "pygments_lexer": "ipython3",
   "version": "3.7.6"
  },
  "toc": {
   "base_numbering": 1,
   "nav_menu": {},
   "number_sections": true,
   "sideBar": true,
   "skip_h1_title": true,
   "title_cell": "Table of Contents",
   "title_sidebar": "Contents",
   "toc_cell": false,
   "toc_position": {},
   "toc_section_display": true,
   "toc_window_display": false
  }
 },
 "nbformat": 4,
 "nbformat_minor": 4
}
